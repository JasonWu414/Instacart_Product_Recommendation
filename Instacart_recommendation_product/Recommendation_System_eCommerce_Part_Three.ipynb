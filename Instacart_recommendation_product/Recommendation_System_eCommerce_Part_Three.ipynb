{
  "cells": [
    {
      "cell_type": "markdown",
      "metadata": {
        "id": "OwHK7mHQT2aB"
      },
      "source": [
        "# eCommerce Product Recommendation - Part 3"
      ]
    },
    {
      "cell_type": "markdown",
      "metadata": {
        "id": "CoknezhTpCGn"
      },
      "source": [
        "# 1. Load Feature Data"
      ]
    },
    {
      "cell_type": "code",
      "execution_count": 35,
      "metadata": {
        "id": "axPvI--WNCjK"
      },
      "outputs": [],
      "source": [
        "import warnings\n",
        "warnings.filterwarnings(\"ignore\")"
      ]
    },
    {
      "cell_type": "code",
      "execution_count": 36,
      "metadata": {
        "id": "6K-Pkvfzn6H5"
      },
      "outputs": [],
      "source": [
        "import pandas as pd\n",
        "import numpy as np\n",
        "import seaborn as sns\n",
        "import matplotlib.pyplot as plt\n",
        "\n",
        "\n",
        "from imblearn.pipeline import Pipeline \n",
        "from imblearn.under_sampling import RandomUnderSampler \n",
        "from imblearn.over_sampling import RandomOverSampler\n",
        "from sklearn.impute import SimpleImputer\n",
        "from sklearn.model_selection import cross_val_score\n",
        "from sklearn.preprocessing import MinMaxScaler\n",
        "from sklearn.neighbors import KNeighborsClassifier\n",
        "from sklearn.ensemble import RandomForestClassifier, GradientBoostingClassifier\n",
        "import lightgbm as lgb \n",
        "from lightgbm import LGBMClassifier\n",
        "from xgboost import XGBClassifier\n",
        "from sklearn.linear_model import LogisticRegression\n",
        "from sklearn.tree import DecisionTreeClassifier\n",
        "from sklearn.model_selection import cross_val_score\n",
        "from sklearn.model_selection import GridSearchCV\n",
        "\n",
        "from sklearn.metrics import plot_confusion_matrix\n",
        "from sklearn.metrics import accuracy_score\n",
        "from sklearn.metrics import precision_score\n",
        "from sklearn.metrics import recall_score\n",
        "from sklearn.metrics import f1_score\n",
        "from sklearn.metrics import roc_auc_score\n",
        "\n",
        "import keras\n",
        "from keras.utils.vis_utils import plot_model\n",
        "from keras.wrappers.scikit_learn import KerasClassifier"
      ]
    },
    {
      "cell_type": "code",
      "execution_count": 37,
      "metadata": {
        "colab": {
          "base_uri": "https://localhost:8080/"
        },
        "id": "Lqj5RnJwaK5s",
        "outputId": "45d15390-abd6-4255-a4e7-2bec7300fa6e"
      },
      "outputs": [
        {
          "output_type": "stream",
          "name": "stdout",
          "text": [
            "Drive already mounted at /content/drive; to attempt to forcibly remount, call drive.mount(\"/content/drive\", force_remount=True).\n"
          ]
        }
      ],
      "source": [
        "from google.colab import drive\n",
        "drive.mount('/content/drive')"
      ]
    },
    {
      "cell_type": "code",
      "execution_count": 38,
      "metadata": {
        "colab": {
          "base_uri": "https://localhost:8080/"
        },
        "id": "PY0YMSG_aU8p",
        "outputId": "bb8df646-09f4-41f0-a18e-063ec94f19f5"
      },
      "outputs": [
        {
          "output_type": "stream",
          "name": "stdout",
          "text": [
            "[Errno 2] No such file or directory: '/content/drive/MyDrive/Laioffer/csv_files/RecSys_eComm/'\n",
            "/content\n"
          ]
        }
      ],
      "source": [
        "cd /content/drive/MyDrive/Laioffer/csv_files/RecSys_eComm/"
      ]
    },
    {
      "cell_type": "code",
      "execution_count": 39,
      "metadata": {
        "colab": {
          "base_uri": "https://localhost:8080/"
        },
        "id": "W4zvSjNbaYxA",
        "outputId": "9adf3e2a-fa41-42cc-ae20-60b187d1605c"
      },
      "outputs": [
        {
          "output_type": "stream",
          "name": "stdout",
          "text": [
            "\u001b[0m\u001b[01;34mdrive\u001b[0m/  model.png  \u001b[01;34msample_data\u001b[0m/\n"
          ]
        }
      ],
      "source": [
        "ls"
      ]
    },
    {
      "cell_type": "code",
      "execution_count": 40,
      "metadata": {
        "id": "kxT1rECQaan9"
      },
      "outputs": [],
      "source": [
        "model_all_data = pd.read_csv('/content/drive/MyDrive/RecSys_eComm/model_all_data.csv')"
      ]
    },
    {
      "cell_type": "code",
      "execution_count": 41,
      "metadata": {
        "colab": {
          "base_uri": "https://localhost:8080/",
          "height": 300
        },
        "id": "ogkkgusQtY0_",
        "outputId": "bab2ffd9-f614-4511-acf5-c56fba840bfb"
      },
      "outputs": [
        {
          "output_type": "execute_result",
          "data": {
            "text/plain": [
              "   user_id  product_id  order_number  order_dow  order_hour_of_day  \\\n",
              "0   152610       43772            22          6                  8   \n",
              "1   152610       37886            22          6                  8   \n",
              "2   152610       37215            22          6                  8   \n",
              "3   152610        3164            22          6                  8   \n",
              "4   152610       26910            22          6                  8   \n",
              "\n",
              "   days_since_prior_order    unique_key  label  user_product__total_orders  \\\n",
              "0                    10.0  152610_43772      0                           2   \n",
              "1                    10.0  152610_37886      0                           2   \n",
              "2                    10.0  152610_37215      0                           1   \n",
              "3                    10.0   152610_3164      0                           1   \n",
              "4                    10.0  152610_26910      0                           1   \n",
              "\n",
              "   user_product__add_to_cart_order_mean  ...  product__most_hod  \\\n",
              "0                                   3.0  ...                 12   \n",
              "1                                   3.5  ...                 14   \n",
              "2                                   5.0  ...                 13   \n",
              "3                                   7.0  ...                  8   \n",
              "4                                   8.0  ...                 10   \n",
              "\n",
              "   product__days_since_prior_order_mean  product__aisle_id  \\\n",
              "0                             12.008565                 83   \n",
              "1                             11.489362                 53   \n",
              "2                             11.490066                 98   \n",
              "3                             10.000000                 98   \n",
              "4                              5.800000                 98   \n",
              "\n",
              "   product__department_id  user__order_count  user__product_count  \\\n",
              "0                       4                 26                  408   \n",
              "1                      16                 26                  408   \n",
              "2                       7                 26                  408   \n",
              "3                       7                 26                  408   \n",
              "4                       7                 26                  408   \n",
              "\n",
              "   user__days_since_prior_order_mean  user__reordered_mean  user__most_dow  \\\n",
              "0                          10.953804                 0.375               6   \n",
              "1                          10.953804                 0.375               6   \n",
              "2                          10.953804                 0.375               6   \n",
              "3                          10.953804                 0.375               6   \n",
              "4                          10.953804                 0.375               6   \n",
              "\n",
              "   user__most_hod  \n",
              "0              12  \n",
              "1              12  \n",
              "2              12  \n",
              "3              12  \n",
              "4              12  \n",
              "\n",
              "[5 rows x 28 columns]"
            ],
            "text/html": [
              "\n",
              "  <div id=\"df-ab3f6967-3aea-49c1-bd62-a34e54ede45b\">\n",
              "    <div class=\"colab-df-container\">\n",
              "      <div>\n",
              "<style scoped>\n",
              "    .dataframe tbody tr th:only-of-type {\n",
              "        vertical-align: middle;\n",
              "    }\n",
              "\n",
              "    .dataframe tbody tr th {\n",
              "        vertical-align: top;\n",
              "    }\n",
              "\n",
              "    .dataframe thead th {\n",
              "        text-align: right;\n",
              "    }\n",
              "</style>\n",
              "<table border=\"1\" class=\"dataframe\">\n",
              "  <thead>\n",
              "    <tr style=\"text-align: right;\">\n",
              "      <th></th>\n",
              "      <th>user_id</th>\n",
              "      <th>product_id</th>\n",
              "      <th>order_number</th>\n",
              "      <th>order_dow</th>\n",
              "      <th>order_hour_of_day</th>\n",
              "      <th>days_since_prior_order</th>\n",
              "      <th>unique_key</th>\n",
              "      <th>label</th>\n",
              "      <th>user_product__total_orders</th>\n",
              "      <th>user_product__add_to_cart_order_mean</th>\n",
              "      <th>...</th>\n",
              "      <th>product__most_hod</th>\n",
              "      <th>product__days_since_prior_order_mean</th>\n",
              "      <th>product__aisle_id</th>\n",
              "      <th>product__department_id</th>\n",
              "      <th>user__order_count</th>\n",
              "      <th>user__product_count</th>\n",
              "      <th>user__days_since_prior_order_mean</th>\n",
              "      <th>user__reordered_mean</th>\n",
              "      <th>user__most_dow</th>\n",
              "      <th>user__most_hod</th>\n",
              "    </tr>\n",
              "  </thead>\n",
              "  <tbody>\n",
              "    <tr>\n",
              "      <th>0</th>\n",
              "      <td>152610</td>\n",
              "      <td>43772</td>\n",
              "      <td>22</td>\n",
              "      <td>6</td>\n",
              "      <td>8</td>\n",
              "      <td>10.0</td>\n",
              "      <td>152610_43772</td>\n",
              "      <td>0</td>\n",
              "      <td>2</td>\n",
              "      <td>3.0</td>\n",
              "      <td>...</td>\n",
              "      <td>12</td>\n",
              "      <td>12.008565</td>\n",
              "      <td>83</td>\n",
              "      <td>4</td>\n",
              "      <td>26</td>\n",
              "      <td>408</td>\n",
              "      <td>10.953804</td>\n",
              "      <td>0.375</td>\n",
              "      <td>6</td>\n",
              "      <td>12</td>\n",
              "    </tr>\n",
              "    <tr>\n",
              "      <th>1</th>\n",
              "      <td>152610</td>\n",
              "      <td>37886</td>\n",
              "      <td>22</td>\n",
              "      <td>6</td>\n",
              "      <td>8</td>\n",
              "      <td>10.0</td>\n",
              "      <td>152610_37886</td>\n",
              "      <td>0</td>\n",
              "      <td>2</td>\n",
              "      <td>3.5</td>\n",
              "      <td>...</td>\n",
              "      <td>14</td>\n",
              "      <td>11.489362</td>\n",
              "      <td>53</td>\n",
              "      <td>16</td>\n",
              "      <td>26</td>\n",
              "      <td>408</td>\n",
              "      <td>10.953804</td>\n",
              "      <td>0.375</td>\n",
              "      <td>6</td>\n",
              "      <td>12</td>\n",
              "    </tr>\n",
              "    <tr>\n",
              "      <th>2</th>\n",
              "      <td>152610</td>\n",
              "      <td>37215</td>\n",
              "      <td>22</td>\n",
              "      <td>6</td>\n",
              "      <td>8</td>\n",
              "      <td>10.0</td>\n",
              "      <td>152610_37215</td>\n",
              "      <td>0</td>\n",
              "      <td>1</td>\n",
              "      <td>5.0</td>\n",
              "      <td>...</td>\n",
              "      <td>13</td>\n",
              "      <td>11.490066</td>\n",
              "      <td>98</td>\n",
              "      <td>7</td>\n",
              "      <td>26</td>\n",
              "      <td>408</td>\n",
              "      <td>10.953804</td>\n",
              "      <td>0.375</td>\n",
              "      <td>6</td>\n",
              "      <td>12</td>\n",
              "    </tr>\n",
              "    <tr>\n",
              "      <th>3</th>\n",
              "      <td>152610</td>\n",
              "      <td>3164</td>\n",
              "      <td>22</td>\n",
              "      <td>6</td>\n",
              "      <td>8</td>\n",
              "      <td>10.0</td>\n",
              "      <td>152610_3164</td>\n",
              "      <td>0</td>\n",
              "      <td>1</td>\n",
              "      <td>7.0</td>\n",
              "      <td>...</td>\n",
              "      <td>8</td>\n",
              "      <td>10.000000</td>\n",
              "      <td>98</td>\n",
              "      <td>7</td>\n",
              "      <td>26</td>\n",
              "      <td>408</td>\n",
              "      <td>10.953804</td>\n",
              "      <td>0.375</td>\n",
              "      <td>6</td>\n",
              "      <td>12</td>\n",
              "    </tr>\n",
              "    <tr>\n",
              "      <th>4</th>\n",
              "      <td>152610</td>\n",
              "      <td>26910</td>\n",
              "      <td>22</td>\n",
              "      <td>6</td>\n",
              "      <td>8</td>\n",
              "      <td>10.0</td>\n",
              "      <td>152610_26910</td>\n",
              "      <td>0</td>\n",
              "      <td>1</td>\n",
              "      <td>8.0</td>\n",
              "      <td>...</td>\n",
              "      <td>10</td>\n",
              "      <td>5.800000</td>\n",
              "      <td>98</td>\n",
              "      <td>7</td>\n",
              "      <td>26</td>\n",
              "      <td>408</td>\n",
              "      <td>10.953804</td>\n",
              "      <td>0.375</td>\n",
              "      <td>6</td>\n",
              "      <td>12</td>\n",
              "    </tr>\n",
              "  </tbody>\n",
              "</table>\n",
              "<p>5 rows × 28 columns</p>\n",
              "</div>\n",
              "      <button class=\"colab-df-convert\" onclick=\"convertToInteractive('df-ab3f6967-3aea-49c1-bd62-a34e54ede45b')\"\n",
              "              title=\"Convert this dataframe to an interactive table.\"\n",
              "              style=\"display:none;\">\n",
              "        \n",
              "  <svg xmlns=\"http://www.w3.org/2000/svg\" height=\"24px\"viewBox=\"0 0 24 24\"\n",
              "       width=\"24px\">\n",
              "    <path d=\"M0 0h24v24H0V0z\" fill=\"none\"/>\n",
              "    <path d=\"M18.56 5.44l.94 2.06.94-2.06 2.06-.94-2.06-.94-.94-2.06-.94 2.06-2.06.94zm-11 1L8.5 8.5l.94-2.06 2.06-.94-2.06-.94L8.5 2.5l-.94 2.06-2.06.94zm10 10l.94 2.06.94-2.06 2.06-.94-2.06-.94-.94-2.06-.94 2.06-2.06.94z\"/><path d=\"M17.41 7.96l-1.37-1.37c-.4-.4-.92-.59-1.43-.59-.52 0-1.04.2-1.43.59L10.3 9.45l-7.72 7.72c-.78.78-.78 2.05 0 2.83L4 21.41c.39.39.9.59 1.41.59.51 0 1.02-.2 1.41-.59l7.78-7.78 2.81-2.81c.8-.78.8-2.07 0-2.86zM5.41 20L4 18.59l7.72-7.72 1.47 1.35L5.41 20z\"/>\n",
              "  </svg>\n",
              "      </button>\n",
              "      \n",
              "  <style>\n",
              "    .colab-df-container {\n",
              "      display:flex;\n",
              "      flex-wrap:wrap;\n",
              "      gap: 12px;\n",
              "    }\n",
              "\n",
              "    .colab-df-convert {\n",
              "      background-color: #E8F0FE;\n",
              "      border: none;\n",
              "      border-radius: 50%;\n",
              "      cursor: pointer;\n",
              "      display: none;\n",
              "      fill: #1967D2;\n",
              "      height: 32px;\n",
              "      padding: 0 0 0 0;\n",
              "      width: 32px;\n",
              "    }\n",
              "\n",
              "    .colab-df-convert:hover {\n",
              "      background-color: #E2EBFA;\n",
              "      box-shadow: 0px 1px 2px rgba(60, 64, 67, 0.3), 0px 1px 3px 1px rgba(60, 64, 67, 0.15);\n",
              "      fill: #174EA6;\n",
              "    }\n",
              "\n",
              "    [theme=dark] .colab-df-convert {\n",
              "      background-color: #3B4455;\n",
              "      fill: #D2E3FC;\n",
              "    }\n",
              "\n",
              "    [theme=dark] .colab-df-convert:hover {\n",
              "      background-color: #434B5C;\n",
              "      box-shadow: 0px 1px 3px 1px rgba(0, 0, 0, 0.15);\n",
              "      filter: drop-shadow(0px 1px 2px rgba(0, 0, 0, 0.3));\n",
              "      fill: #FFFFFF;\n",
              "    }\n",
              "  </style>\n",
              "\n",
              "      <script>\n",
              "        const buttonEl =\n",
              "          document.querySelector('#df-ab3f6967-3aea-49c1-bd62-a34e54ede45b button.colab-df-convert');\n",
              "        buttonEl.style.display =\n",
              "          google.colab.kernel.accessAllowed ? 'block' : 'none';\n",
              "\n",
              "        async function convertToInteractive(key) {\n",
              "          const element = document.querySelector('#df-ab3f6967-3aea-49c1-bd62-a34e54ede45b');\n",
              "          const dataTable =\n",
              "            await google.colab.kernel.invokeFunction('convertToInteractive',\n",
              "                                                     [key], {});\n",
              "          if (!dataTable) return;\n",
              "\n",
              "          const docLinkHtml = 'Like what you see? Visit the ' +\n",
              "            '<a target=\"_blank\" href=https://colab.research.google.com/notebooks/data_table.ipynb>data table notebook</a>'\n",
              "            + ' to learn more about interactive tables.';\n",
              "          element.innerHTML = '';\n",
              "          dataTable['output_type'] = 'display_data';\n",
              "          await google.colab.output.renderOutput(dataTable, element);\n",
              "          const docLink = document.createElement('div');\n",
              "          docLink.innerHTML = docLinkHtml;\n",
              "          element.appendChild(docLink);\n",
              "        }\n",
              "      </script>\n",
              "    </div>\n",
              "  </div>\n",
              "  "
            ]
          },
          "metadata": {},
          "execution_count": 41
        }
      ],
      "source": [
        "model_all_data.head()"
      ]
    },
    {
      "cell_type": "code",
      "execution_count": 42,
      "metadata": {
        "id": "Luaz0Ak8oWxT"
      },
      "outputs": [],
      "source": [
        "unique_key = ['user_id', 'product_id']\n",
        "\n",
        "raw_features = ['order_number',\n",
        "                     'order_dow',\n",
        "                     'order_hour_of_day',\n",
        "                     'days_since_prior_order',\n",
        "                     'user_product__total_orders',\n",
        "                     'user_product__add_to_cart_order_mean',\n",
        "                     'user_product__reordered_mean',\n",
        "                     'user_product__most_dow',\n",
        "                     'user_product__most_hod',\n",
        "                     'product__total_orders',\n",
        "                     'product__add_to_cart_order_mean',\n",
        "                     'product__total_users',\n",
        "                     'product__reordered_mean',\n",
        "                     'product__most_dow',\n",
        "                     'product__most_hod',\n",
        "                     'product__days_since_prior_order_mean',\n",
        "                     'user__order_count',\n",
        "                     'user__product_count',\n",
        "                     'user__days_since_prior_order_mean',\n",
        "                     'user__reordered_mean',\n",
        "                     'user__most_dow',\n",
        "                     'user__most_hod',\n",
        "                     'product__aisle_id',\n",
        "                     'product__department_id',\n",
        "                     ]\n",
        "                   \n",
        "label = ['label']"
      ]
    },
    {
      "cell_type": "code",
      "execution_count": 43,
      "metadata": {
        "id": "7vxDeP_Jos-s"
      },
      "outputs": [],
      "source": [
        "model_all_data = model_all_data[unique_key + raw_features + label]"
      ]
    },
    {
      "cell_type": "code",
      "execution_count": 44,
      "metadata": {
        "colab": {
          "base_uri": "https://localhost:8080/",
          "height": 300
        },
        "id": "HSa9U-1Dow8g",
        "outputId": "205c3663-21f8-464f-f019-3e2eb0268e69"
      },
      "outputs": [
        {
          "output_type": "execute_result",
          "data": {
            "text/plain": [
              "   user_id  product_id  order_number  order_dow  order_hour_of_day  \\\n",
              "0   152610       43772            22          6                  8   \n",
              "1   152610       37886            22          6                  8   \n",
              "2   152610       37215            22          6                  8   \n",
              "3   152610        3164            22          6                  8   \n",
              "4   152610       26910            22          6                  8   \n",
              "\n",
              "   days_since_prior_order  user_product__total_orders  \\\n",
              "0                    10.0                           2   \n",
              "1                    10.0                           2   \n",
              "2                    10.0                           1   \n",
              "3                    10.0                           1   \n",
              "4                    10.0                           1   \n",
              "\n",
              "   user_product__add_to_cart_order_mean  user_product__reordered_mean  \\\n",
              "0                                   3.0                           0.5   \n",
              "1                                   3.5                           0.5   \n",
              "2                                   5.0                           0.0   \n",
              "3                                   7.0                           0.0   \n",
              "4                                   8.0                           0.0   \n",
              "\n",
              "   user_product__most_dow  ...  product__days_since_prior_order_mean  \\\n",
              "0                       5  ...                             12.008565   \n",
              "1                       6  ...                             11.489362   \n",
              "2                       6  ...                             11.490066   \n",
              "3                       6  ...                             10.000000   \n",
              "4                       6  ...                              5.800000   \n",
              "\n",
              "   user__order_count  user__product_count  user__days_since_prior_order_mean  \\\n",
              "0                 26                  408                          10.953804   \n",
              "1                 26                  408                          10.953804   \n",
              "2                 26                  408                          10.953804   \n",
              "3                 26                  408                          10.953804   \n",
              "4                 26                  408                          10.953804   \n",
              "\n",
              "   user__reordered_mean  user__most_dow  user__most_hod  product__aisle_id  \\\n",
              "0                 0.375               6              12                 83   \n",
              "1                 0.375               6              12                 53   \n",
              "2                 0.375               6              12                 98   \n",
              "3                 0.375               6              12                 98   \n",
              "4                 0.375               6              12                 98   \n",
              "\n",
              "   product__department_id  label  \n",
              "0                       4      0  \n",
              "1                      16      0  \n",
              "2                       7      0  \n",
              "3                       7      0  \n",
              "4                       7      0  \n",
              "\n",
              "[5 rows x 27 columns]"
            ],
            "text/html": [
              "\n",
              "  <div id=\"df-fe6009b2-84c1-4260-8381-4fb9767bc421\">\n",
              "    <div class=\"colab-df-container\">\n",
              "      <div>\n",
              "<style scoped>\n",
              "    .dataframe tbody tr th:only-of-type {\n",
              "        vertical-align: middle;\n",
              "    }\n",
              "\n",
              "    .dataframe tbody tr th {\n",
              "        vertical-align: top;\n",
              "    }\n",
              "\n",
              "    .dataframe thead th {\n",
              "        text-align: right;\n",
              "    }\n",
              "</style>\n",
              "<table border=\"1\" class=\"dataframe\">\n",
              "  <thead>\n",
              "    <tr style=\"text-align: right;\">\n",
              "      <th></th>\n",
              "      <th>user_id</th>\n",
              "      <th>product_id</th>\n",
              "      <th>order_number</th>\n",
              "      <th>order_dow</th>\n",
              "      <th>order_hour_of_day</th>\n",
              "      <th>days_since_prior_order</th>\n",
              "      <th>user_product__total_orders</th>\n",
              "      <th>user_product__add_to_cart_order_mean</th>\n",
              "      <th>user_product__reordered_mean</th>\n",
              "      <th>user_product__most_dow</th>\n",
              "      <th>...</th>\n",
              "      <th>product__days_since_prior_order_mean</th>\n",
              "      <th>user__order_count</th>\n",
              "      <th>user__product_count</th>\n",
              "      <th>user__days_since_prior_order_mean</th>\n",
              "      <th>user__reordered_mean</th>\n",
              "      <th>user__most_dow</th>\n",
              "      <th>user__most_hod</th>\n",
              "      <th>product__aisle_id</th>\n",
              "      <th>product__department_id</th>\n",
              "      <th>label</th>\n",
              "    </tr>\n",
              "  </thead>\n",
              "  <tbody>\n",
              "    <tr>\n",
              "      <th>0</th>\n",
              "      <td>152610</td>\n",
              "      <td>43772</td>\n",
              "      <td>22</td>\n",
              "      <td>6</td>\n",
              "      <td>8</td>\n",
              "      <td>10.0</td>\n",
              "      <td>2</td>\n",
              "      <td>3.0</td>\n",
              "      <td>0.5</td>\n",
              "      <td>5</td>\n",
              "      <td>...</td>\n",
              "      <td>12.008565</td>\n",
              "      <td>26</td>\n",
              "      <td>408</td>\n",
              "      <td>10.953804</td>\n",
              "      <td>0.375</td>\n",
              "      <td>6</td>\n",
              "      <td>12</td>\n",
              "      <td>83</td>\n",
              "      <td>4</td>\n",
              "      <td>0</td>\n",
              "    </tr>\n",
              "    <tr>\n",
              "      <th>1</th>\n",
              "      <td>152610</td>\n",
              "      <td>37886</td>\n",
              "      <td>22</td>\n",
              "      <td>6</td>\n",
              "      <td>8</td>\n",
              "      <td>10.0</td>\n",
              "      <td>2</td>\n",
              "      <td>3.5</td>\n",
              "      <td>0.5</td>\n",
              "      <td>6</td>\n",
              "      <td>...</td>\n",
              "      <td>11.489362</td>\n",
              "      <td>26</td>\n",
              "      <td>408</td>\n",
              "      <td>10.953804</td>\n",
              "      <td>0.375</td>\n",
              "      <td>6</td>\n",
              "      <td>12</td>\n",
              "      <td>53</td>\n",
              "      <td>16</td>\n",
              "      <td>0</td>\n",
              "    </tr>\n",
              "    <tr>\n",
              "      <th>2</th>\n",
              "      <td>152610</td>\n",
              "      <td>37215</td>\n",
              "      <td>22</td>\n",
              "      <td>6</td>\n",
              "      <td>8</td>\n",
              "      <td>10.0</td>\n",
              "      <td>1</td>\n",
              "      <td>5.0</td>\n",
              "      <td>0.0</td>\n",
              "      <td>6</td>\n",
              "      <td>...</td>\n",
              "      <td>11.490066</td>\n",
              "      <td>26</td>\n",
              "      <td>408</td>\n",
              "      <td>10.953804</td>\n",
              "      <td>0.375</td>\n",
              "      <td>6</td>\n",
              "      <td>12</td>\n",
              "      <td>98</td>\n",
              "      <td>7</td>\n",
              "      <td>0</td>\n",
              "    </tr>\n",
              "    <tr>\n",
              "      <th>3</th>\n",
              "      <td>152610</td>\n",
              "      <td>3164</td>\n",
              "      <td>22</td>\n",
              "      <td>6</td>\n",
              "      <td>8</td>\n",
              "      <td>10.0</td>\n",
              "      <td>1</td>\n",
              "      <td>7.0</td>\n",
              "      <td>0.0</td>\n",
              "      <td>6</td>\n",
              "      <td>...</td>\n",
              "      <td>10.000000</td>\n",
              "      <td>26</td>\n",
              "      <td>408</td>\n",
              "      <td>10.953804</td>\n",
              "      <td>0.375</td>\n",
              "      <td>6</td>\n",
              "      <td>12</td>\n",
              "      <td>98</td>\n",
              "      <td>7</td>\n",
              "      <td>0</td>\n",
              "    </tr>\n",
              "    <tr>\n",
              "      <th>4</th>\n",
              "      <td>152610</td>\n",
              "      <td>26910</td>\n",
              "      <td>22</td>\n",
              "      <td>6</td>\n",
              "      <td>8</td>\n",
              "      <td>10.0</td>\n",
              "      <td>1</td>\n",
              "      <td>8.0</td>\n",
              "      <td>0.0</td>\n",
              "      <td>6</td>\n",
              "      <td>...</td>\n",
              "      <td>5.800000</td>\n",
              "      <td>26</td>\n",
              "      <td>408</td>\n",
              "      <td>10.953804</td>\n",
              "      <td>0.375</td>\n",
              "      <td>6</td>\n",
              "      <td>12</td>\n",
              "      <td>98</td>\n",
              "      <td>7</td>\n",
              "      <td>0</td>\n",
              "    </tr>\n",
              "  </tbody>\n",
              "</table>\n",
              "<p>5 rows × 27 columns</p>\n",
              "</div>\n",
              "      <button class=\"colab-df-convert\" onclick=\"convertToInteractive('df-fe6009b2-84c1-4260-8381-4fb9767bc421')\"\n",
              "              title=\"Convert this dataframe to an interactive table.\"\n",
              "              style=\"display:none;\">\n",
              "        \n",
              "  <svg xmlns=\"http://www.w3.org/2000/svg\" height=\"24px\"viewBox=\"0 0 24 24\"\n",
              "       width=\"24px\">\n",
              "    <path d=\"M0 0h24v24H0V0z\" fill=\"none\"/>\n",
              "    <path d=\"M18.56 5.44l.94 2.06.94-2.06 2.06-.94-2.06-.94-.94-2.06-.94 2.06-2.06.94zm-11 1L8.5 8.5l.94-2.06 2.06-.94-2.06-.94L8.5 2.5l-.94 2.06-2.06.94zm10 10l.94 2.06.94-2.06 2.06-.94-2.06-.94-.94-2.06-.94 2.06-2.06.94z\"/><path d=\"M17.41 7.96l-1.37-1.37c-.4-.4-.92-.59-1.43-.59-.52 0-1.04.2-1.43.59L10.3 9.45l-7.72 7.72c-.78.78-.78 2.05 0 2.83L4 21.41c.39.39.9.59 1.41.59.51 0 1.02-.2 1.41-.59l7.78-7.78 2.81-2.81c.8-.78.8-2.07 0-2.86zM5.41 20L4 18.59l7.72-7.72 1.47 1.35L5.41 20z\"/>\n",
              "  </svg>\n",
              "      </button>\n",
              "      \n",
              "  <style>\n",
              "    .colab-df-container {\n",
              "      display:flex;\n",
              "      flex-wrap:wrap;\n",
              "      gap: 12px;\n",
              "    }\n",
              "\n",
              "    .colab-df-convert {\n",
              "      background-color: #E8F0FE;\n",
              "      border: none;\n",
              "      border-radius: 50%;\n",
              "      cursor: pointer;\n",
              "      display: none;\n",
              "      fill: #1967D2;\n",
              "      height: 32px;\n",
              "      padding: 0 0 0 0;\n",
              "      width: 32px;\n",
              "    }\n",
              "\n",
              "    .colab-df-convert:hover {\n",
              "      background-color: #E2EBFA;\n",
              "      box-shadow: 0px 1px 2px rgba(60, 64, 67, 0.3), 0px 1px 3px 1px rgba(60, 64, 67, 0.15);\n",
              "      fill: #174EA6;\n",
              "    }\n",
              "\n",
              "    [theme=dark] .colab-df-convert {\n",
              "      background-color: #3B4455;\n",
              "      fill: #D2E3FC;\n",
              "    }\n",
              "\n",
              "    [theme=dark] .colab-df-convert:hover {\n",
              "      background-color: #434B5C;\n",
              "      box-shadow: 0px 1px 3px 1px rgba(0, 0, 0, 0.15);\n",
              "      filter: drop-shadow(0px 1px 2px rgba(0, 0, 0, 0.3));\n",
              "      fill: #FFFFFF;\n",
              "    }\n",
              "  </style>\n",
              "\n",
              "      <script>\n",
              "        const buttonEl =\n",
              "          document.querySelector('#df-fe6009b2-84c1-4260-8381-4fb9767bc421 button.colab-df-convert');\n",
              "        buttonEl.style.display =\n",
              "          google.colab.kernel.accessAllowed ? 'block' : 'none';\n",
              "\n",
              "        async function convertToInteractive(key) {\n",
              "          const element = document.querySelector('#df-fe6009b2-84c1-4260-8381-4fb9767bc421');\n",
              "          const dataTable =\n",
              "            await google.colab.kernel.invokeFunction('convertToInteractive',\n",
              "                                                     [key], {});\n",
              "          if (!dataTable) return;\n",
              "\n",
              "          const docLinkHtml = 'Like what you see? Visit the ' +\n",
              "            '<a target=\"_blank\" href=https://colab.research.google.com/notebooks/data_table.ipynb>data table notebook</a>'\n",
              "            + ' to learn more about interactive tables.';\n",
              "          element.innerHTML = '';\n",
              "          dataTable['output_type'] = 'display_data';\n",
              "          await google.colab.output.renderOutput(dataTable, element);\n",
              "          const docLink = document.createElement('div');\n",
              "          docLink.innerHTML = docLinkHtml;\n",
              "          element.appendChild(docLink);\n",
              "        }\n",
              "      </script>\n",
              "    </div>\n",
              "  </div>\n",
              "  "
            ]
          },
          "metadata": {},
          "execution_count": 44
        }
      ],
      "source": [
        "model_all_data.head()"
      ]
    },
    {
      "cell_type": "markdown",
      "metadata": {
        "id": "6TJxEfPopfI6"
      },
      "source": [
        "# 2. Feature Data Analysis & Tranformation"
      ]
    },
    {
      "cell_type": "markdown",
      "metadata": {
        "id": "ObTVgGe3pm2c"
      },
      "source": [
        "2.1. Label Ratio"
      ]
    },
    {
      "cell_type": "code",
      "execution_count": 45,
      "metadata": {
        "colab": {
          "base_uri": "https://localhost:8080/"
        },
        "id": "XVj-GV6QpWiF",
        "outputId": "8ee0760e-eee0-4d38-9aa8-26dc805978a8"
      },
      "outputs": [
        {
          "output_type": "stream",
          "name": "stdout",
          "text": [
            "Negative label count:  306866\n",
            "Positive label count:  22940\n",
            "Positive label rate is 6.96%\n"
          ]
        }
      ],
      "source": [
        "label_count = model_all_data.label.value_counts()\n",
        "print(\"Negative label count: \", label_count[0])\n",
        "print(\"Positive label count: \", label_count[1])\n",
        "print(\"Positive label rate is {:.2f}%\".format(\n",
        "      label_count[1] / (label_count[0] + label_count[1]) * 100) )"
      ]
    },
    {
      "cell_type": "code",
      "execution_count": 46,
      "metadata": {
        "colab": {
          "base_uri": "https://localhost:8080/",
          "height": 281
        },
        "id": "xs2FKtjToxya",
        "outputId": "0392cd1b-7637-4e1a-c4ff-20cb3191c367"
      },
      "outputs": [
        {
          "output_type": "display_data",
          "data": {
            "text/plain": [
              "<Figure size 432x288 with 1 Axes>"
            ],
            "image/png": "[encoded data removed]"
          },
          "metadata": {
            "needs_background": "light"
          }
        }
      ],
      "source": [
        "ax = label_count.sort_values().plot(kind='barh', title='Labels Count')\n",
        "ax.grid(axis=\"x\")"
      ]
    },
    {
      "cell_type": "markdown",
      "metadata": {
        "id": "s-G6r5JxrDf1"
      },
      "source": [
        "2.2. Null value check"
      ]
    },
    {
      "cell_type": "code",
      "execution_count": 47,
      "metadata": {
        "colab": {
          "base_uri": "https://localhost:8080/"
        },
        "id": "YDOcN-_wrDQG",
        "outputId": "0cca0e1b-7494-4594-c038-d6c1df8872cd"
      },
      "outputs": [
        {
          "output_type": "execute_result",
          "data": {
            "text/plain": [
              "user_id                                     0\n",
              "product_id                                  0\n",
              "order_number                                0\n",
              "order_dow                                   0\n",
              "order_hour_of_day                           0\n",
              "days_since_prior_order                  21350\n",
              "user_product__total_orders                  0\n",
              "user_product__add_to_cart_order_mean        0\n",
              "user_product__reordered_mean                0\n",
              "user_product__most_dow                      0\n",
              "user_product__most_hod                      0\n",
              "product__total_orders                       0\n",
              "product__add_to_cart_order_mean             0\n",
              "product__total_users                        0\n",
              "product__reordered_mean                     0\n",
              "product__most_dow                           0\n",
              "product__most_hod                           0\n",
              "product__days_since_prior_order_mean      726\n",
              "user__order_count                           0\n",
              "user__product_count                         0\n",
              "user__days_since_prior_order_mean           0\n",
              "user__reordered_mean                        0\n",
              "user__most_dow                              0\n",
              "user__most_hod                              0\n",
              "product__aisle_id                           0\n",
              "product__department_id                      0\n",
              "label                                       0\n",
              "dtype: int64"
            ]
          },
          "metadata": {},
          "execution_count": 47
        }
      ],
      "source": [
        "model_all_data.isna().sum()"
      ]
    },
    {
      "cell_type": "markdown",
      "metadata": {
        "id": "isKWh5gVrVO9"
      },
      "source": [
        "2.3. Categorical Feature Transformation\n"
      ]
    },
    {
      "cell_type": "code",
      "execution_count": 48,
      "metadata": {
        "id": "CgwwX0Q-qHRz"
      },
      "outputs": [],
      "source": [
        "# One-hot encoding for the `product__department_id` feature.\n",
        "model_all_data = pd.concat(\n",
        "    [model_all_data.drop('product__department_id',axis=1),\n",
        "     pd.get_dummies(model_all_data[\"product__department_id\"],\n",
        "                    prefix='product__department_id_')],\n",
        "                     axis=1)"
      ]
    },
    {
      "cell_type": "markdown",
      "metadata": {
        "id": "wColDjFnsbLi"
      },
      "source": [
        "# 3. Split Dataset to Train, Validation and Test"
      ]
    },
    {
      "cell_type": "markdown",
      "metadata": {
        "id": "dswd8BaZssuj"
      },
      "source": [
        "In order to do model training, model selection and evaluation, we split `model_all_data` to three parts: train, validation, test."
      ]
    },
    {
      "cell_type": "code",
      "execution_count": 49,
      "metadata": {
        "id": "65tqr0gAttGL"
      },
      "outputs": [],
      "source": [
        "# We randomly select 20% users as test data. \n",
        "# The remaining data will be used as train & validation data.\n",
        "test_user_ids = model_all_data.user_id.drop_duplicates().sample(frac=0.2)\n",
        "\n",
        "train_validation_data = model_all_data[~model_all_data.user_id.isin(test_user_ids)]\n",
        "test_data = model_all_data[model_all_data.user_id.isin(test_user_ids)]"
      ]
    },
    {
      "cell_type": "code",
      "execution_count": 50,
      "metadata": {
        "colab": {
          "base_uri": "https://localhost:8080/"
        },
        "id": "4Ph83khusTut",
        "outputId": "1e0d4019-079d-4f97-e58e-feb3c83a48bc"
      },
      "outputs": [
        {
          "output_type": "execute_result",
          "data": {
            "text/plain": [
              "(329806, 47)"
            ]
          },
          "metadata": {},
          "execution_count": 50
        }
      ],
      "source": [
        "model_all_data.shape"
      ]
    },
    {
      "cell_type": "code",
      "execution_count": 51,
      "metadata": {
        "colab": {
          "base_uri": "https://localhost:8080/"
        },
        "id": "ZRj7Tp-0umcc",
        "outputId": "4efc4a3e-a95b-4a7c-f101-6673cb6fd401"
      },
      "outputs": [
        {
          "output_type": "execute_result",
          "data": {
            "text/plain": [
              "(262347, 47)"
            ]
          },
          "metadata": {},
          "execution_count": 51
        }
      ],
      "source": [
        "train_validation_data.shape"
      ]
    },
    {
      "cell_type": "code",
      "execution_count": 52,
      "metadata": {
        "colab": {
          "base_uri": "https://localhost:8080/"
        },
        "id": "xtBwSUXwu-5w",
        "outputId": "f0200771-330c-499d-e275-f62a083f0389"
      },
      "outputs": [
        {
          "output_type": "execute_result",
          "data": {
            "text/plain": [
              "(67459, 47)"
            ]
          },
          "metadata": {},
          "execution_count": 52
        }
      ],
      "source": [
        "test_data.shape"
      ]
    },
    {
      "cell_type": "markdown",
      "metadata": {
        "id": "751m91O-D2J4"
      },
      "source": [
        "# 4. Model Selection with Cross Validation"
      ]
    },
    {
      "cell_type": "markdown",
      "metadata": {
        "id": "wF04v6wkn6Cy"
      },
      "source": [
        "4.1. Model Selection with All Features"
      ]
    },
    {
      "cell_type": "code",
      "execution_count": 53,
      "metadata": {
        "id": "3SuiquaZKhgb"
      },
      "outputs": [],
      "source": [
        "train_validation_data_x = train_validation_data.drop(['user_id', 'product_id', 'label'],axis=1)\n",
        "train_validation_data_y = train_validation_data['label']"
      ]
    },
    {
      "cell_type": "code",
      "execution_count": 54,
      "metadata": {
        "id": "ggI9_UAB_VX6"
      },
      "outputs": [],
      "source": [
        "classifiers = [\n",
        "    LogisticRegression(),\n",
        "    DecisionTreeClassifier(),\n",
        "    RandomForestClassifier(),\n",
        "    LGBMClassifier(),\n",
        "    XGBClassifier(),\n",
        "    GradientBoostingClassifier(),\n",
        "    ]\n",
        "\n",
        "  # |--------------train-val(80)---------------| ---test(20)---|\n",
        "  #  1      2       3         4         5\n",
        "  #  1      2       3         4         5\n",
        "  #  1      2       3         4         5\n",
        "  #  1      2       3         4         5\n",
        "  #  1      2       3         4         5\n"
      ]
    },
    {
      "cell_type": "code",
      "execution_count": 55,
      "metadata": {
        "id": "95HAZDDrMbEj"
      },
      "outputs": [],
      "source": [
        "def build_ml_pipeline(classifier): \n",
        "  steps = list()\n",
        "  steps.append(('fillnan', SimpleImputer(missing_values=np.nan, strategy='constant', fill_value=0.0)))\n",
        "  steps.append(('downSample', RandomUnderSampler()))\n",
        "  steps.append(('scaler', MinMaxScaler()))\n",
        "  steps.append(('model', classifier))\n",
        "  pipeline = Pipeline(steps=steps) #Pipeline: Sequentially apply a list of transforms, sampling, and a final estimator. \n",
        "  return pipeline"
      ]
    },
    {
      "cell_type": "code",
      "execution_count": 56,
      "metadata": {
        "colab": {
          "base_uri": "https://localhost:8080/"
        },
        "id": "3on93yGbMtkr",
        "outputId": "5169183f-4a8d-428b-be70-12d22147348e"
      },
      "outputs": [
        {
          "output_type": "stream",
          "name": "stdout",
          "text": [
            "CPU times: user 7.88 s, sys: 3.34 s, total: 11.2 s\n",
            "Wall time: 6.86 s\n",
            "LogisticRegression : F1 value is 37.670 (0.644)\n",
            "==============\n",
            "CPU times: user 4.22 s, sys: 98.9 ms, total: 4.32 s\n",
            "Wall time: 4.23 s\n",
            "DecisionTreeClassifier : F1 value is 34.345 (1.666)\n",
            "==============\n",
            "CPU times: user 33.9 s, sys: 58.2 ms, total: 34 s\n",
            "Wall time: 33.9 s\n",
            "RandomForestClassifier : F1 value is 35.774 (0.854)\n",
            "==============\n",
            "CPU times: user 7.32 s, sys: 73.9 ms, total: 7.39 s\n",
            "Wall time: 7.39 s\n",
            "LGBMClassifier : F1 value is 37.546 (0.990)\n",
            "==============\n",
            "CPU times: user 21.8 s, sys: 45.6 ms, total: 21.8 s\n",
            "Wall time: 22.7 s\n",
            "XGBClassifier : F1 value is 36.744 (0.866)\n",
            "==============\n",
            "CPU times: user 1min 5s, sys: 29.2 ms, total: 1min 5s\n",
            "Wall time: 1min 6s\n",
            "GradientBoostingClassifier : F1 value is 37.350 (0.737)\n",
            "==============\n"
          ]
        }
      ],
      "source": [
        "# 如何解释 model performance (or model selection)\n",
        "# 1. Accuracy -> F1 score\n",
        "# 2. Latency -> 代表模型复杂度\n",
        "# 3. 可解释性\n",
        "\n",
        "# 解决办法 -> multi-tasks, 确保模型虽然复杂但是精确度高。具体情况具体分析。\n",
        "\n",
        "for classifier in classifiers:\n",
        "  pipeline = build_ml_pipeline(classifier)\n",
        "  %time scores = cross_val_score(pipeline, train_validation_data_x, train_validation_data_y, cv=5, scoring='f1')\n",
        "  print(classifier.__class__.__name__, ': F1 value is %.3f (%.3f)' % (np.mean(scores)*100, np.std(scores)*100))\n",
        "  print('==============')"
      ]
    },
    {
      "cell_type": "markdown",
      "metadata": {
        "id": "r9O2Y0OZrQsW"
      },
      "source": [
        "4.2. Feature Selection\n"
      ]
    },
    {
      "cell_type": "markdown",
      "source": [
        "### We use LGBMClassifier because it has relative high F1, short time, and it has explainability feature_importance and let I explain"
      ],
      "metadata": {
        "id": "y0i4ALiefXa6"
      }
    },
    {
      "cell_type": "code",
      "execution_count": 57,
      "metadata": {
        "id": "xVEukT4ur16y",
        "colab": {
          "base_uri": "https://localhost:8080/"
        },
        "outputId": "42b7b1b8-5b28-4843-bdc1-e538f9042c61"
      },
      "outputs": [
        {
          "output_type": "execute_result",
          "data": {
            "text/plain": [
              "Pipeline(steps=[('fillnan', SimpleImputer(fill_value=0.0, strategy='constant')),\n",
              "                ('downSample', RandomUnderSampler()),\n",
              "                ('scaler', MinMaxScaler()), ('model', LGBMClassifier())])"
            ]
          },
          "metadata": {},
          "execution_count": 57
        }
      ],
      "source": [
        "# Use all data - \"train_validation_data_x\" - 重算一次，没有 hyperparameter tuning。\n",
        "\n",
        "pipeline = build_ml_pipeline(LGBMClassifier())\n",
        "pipeline.fit(train_validation_data_x, train_validation_data_y)"
      ]
    },
    {
      "cell_type": "code",
      "source": [
        "pipeline.steps[3][1]"
      ],
      "metadata": {
        "colab": {
          "base_uri": "https://localhost:8080/"
        },
        "id": "m6mVy-BFcNTp",
        "outputId": "4b8bd0bb-0cfe-4ffc-c0b4-b1c8668d3884"
      },
      "execution_count": 58,
      "outputs": [
        {
          "output_type": "execute_result",
          "data": {
            "text/plain": [
              "LGBMClassifier()"
            ]
          },
          "metadata": {},
          "execution_count": 58
        }
      ]
    },
    {
      "cell_type": "code",
      "execution_count": 59,
      "metadata": {
        "id": "UI0CAkrlse5f"
      },
      "outputs": [],
      "source": [
        "importances = pipeline.steps[3][1].feature_importances_\n",
        "feature_names=train_validation_data_x.columns.tolist()"
      ]
    },
    {
      "cell_type": "code",
      "execution_count": 60,
      "metadata": {
        "id": "-bLQMeY7tnWF"
      },
      "outputs": [],
      "source": [
        "df_importances = pd.DataFrame(\n",
        "    {\"feature\":feature_names, \"importance\":importances}).sort_values(\"importance\", ascending=False)\n",
        "top15_features = df_importances.head(15)    "
      ]
    },
    {
      "cell_type": "code",
      "execution_count": 61,
      "metadata": {
        "id": "2joVufsauGEC"
      },
      "outputs": [],
      "source": [
        "# Only use the selected top 15 features in our training data.\n",
        "train_validation_data_x_select_features = train_validation_data_x[top15_features['feature']]"
      ]
    },
    {
      "cell_type": "code",
      "execution_count": 62,
      "metadata": {
        "id": "ALhHyb8ttT-5",
        "colab": {
          "base_uri": "https://localhost:8080/",
          "height": 520
        },
        "outputId": "83c2f31c-6440-4a76-fe37-a10c5d30545d"
      },
      "outputs": [
        {
          "output_type": "execute_result",
          "data": {
            "text/plain": [
              "                                 feature  importance\n",
              "16                     user__order_count         351\n",
              "4             user_product__total_orders         301\n",
              "0                           order_number         279\n",
              "19                  user__reordered_mean         189\n",
              "12               product__reordered_mean         186\n",
              "18     user__days_since_prior_order_mean         182\n",
              "15  product__days_since_prior_order_mean         153\n",
              "17                   user__product_count         149\n",
              "9                  product__total_orders         148\n",
              "5   user_product__add_to_cart_order_mean         146\n",
              "10       product__add_to_cart_order_mean         137\n",
              "3                 days_since_prior_order         103\n",
              "22                     product__aisle_id          96\n",
              "2                      order_hour_of_day          87\n",
              "11                  product__total_users          77"
            ],
            "text/html": [
              "\n",
              "  <div id=\"df-d09362e7-d1ab-44b3-8f68-b3bcb62faadd\">\n",
              "    <div class=\"colab-df-container\">\n",
              "      <div>\n",
              "<style scoped>\n",
              "    .dataframe tbody tr th:only-of-type {\n",
              "        vertical-align: middle;\n",
              "    }\n",
              "\n",
              "    .dataframe tbody tr th {\n",
              "        vertical-align: top;\n",
              "    }\n",
              "\n",
              "    .dataframe thead th {\n",
              "        text-align: right;\n",
              "    }\n",
              "</style>\n",
              "<table border=\"1\" class=\"dataframe\">\n",
              "  <thead>\n",
              "    <tr style=\"text-align: right;\">\n",
              "      <th></th>\n",
              "      <th>feature</th>\n",
              "      <th>importance</th>\n",
              "    </tr>\n",
              "  </thead>\n",
              "  <tbody>\n",
              "    <tr>\n",
              "      <th>16</th>\n",
              "      <td>user__order_count</td>\n",
              "      <td>351</td>\n",
              "    </tr>\n",
              "    <tr>\n",
              "      <th>4</th>\n",
              "      <td>user_product__total_orders</td>\n",
              "      <td>301</td>\n",
              "    </tr>\n",
              "    <tr>\n",
              "      <th>0</th>\n",
              "      <td>order_number</td>\n",
              "      <td>279</td>\n",
              "    </tr>\n",
              "    <tr>\n",
              "      <th>19</th>\n",
              "      <td>user__reordered_mean</td>\n",
              "      <td>189</td>\n",
              "    </tr>\n",
              "    <tr>\n",
              "      <th>12</th>\n",
              "      <td>product__reordered_mean</td>\n",
              "      <td>186</td>\n",
              "    </tr>\n",
              "    <tr>\n",
              "      <th>18</th>\n",
              "      <td>user__days_since_prior_order_mean</td>\n",
              "      <td>182</td>\n",
              "    </tr>\n",
              "    <tr>\n",
              "      <th>15</th>\n",
              "      <td>product__days_since_prior_order_mean</td>\n",
              "      <td>153</td>\n",
              "    </tr>\n",
              "    <tr>\n",
              "      <th>17</th>\n",
              "      <td>user__product_count</td>\n",
              "      <td>149</td>\n",
              "    </tr>\n",
              "    <tr>\n",
              "      <th>9</th>\n",
              "      <td>product__total_orders</td>\n",
              "      <td>148</td>\n",
              "    </tr>\n",
              "    <tr>\n",
              "      <th>5</th>\n",
              "      <td>user_product__add_to_cart_order_mean</td>\n",
              "      <td>146</td>\n",
              "    </tr>\n",
              "    <tr>\n",
              "      <th>10</th>\n",
              "      <td>product__add_to_cart_order_mean</td>\n",
              "      <td>137</td>\n",
              "    </tr>\n",
              "    <tr>\n",
              "      <th>3</th>\n",
              "      <td>days_since_prior_order</td>\n",
              "      <td>103</td>\n",
              "    </tr>\n",
              "    <tr>\n",
              "      <th>22</th>\n",
              "      <td>product__aisle_id</td>\n",
              "      <td>96</td>\n",
              "    </tr>\n",
              "    <tr>\n",
              "      <th>2</th>\n",
              "      <td>order_hour_of_day</td>\n",
              "      <td>87</td>\n",
              "    </tr>\n",
              "    <tr>\n",
              "      <th>11</th>\n",
              "      <td>product__total_users</td>\n",
              "      <td>77</td>\n",
              "    </tr>\n",
              "  </tbody>\n",
              "</table>\n",
              "</div>\n",
              "      <button class=\"colab-df-convert\" onclick=\"convertToInteractive('df-d09362e7-d1ab-44b3-8f68-b3bcb62faadd')\"\n",
              "              title=\"Convert this dataframe to an interactive table.\"\n",
              "              style=\"display:none;\">\n",
              "        \n",
              "  <svg xmlns=\"http://www.w3.org/2000/svg\" height=\"24px\"viewBox=\"0 0 24 24\"\n",
              "       width=\"24px\">\n",
              "    <path d=\"M0 0h24v24H0V0z\" fill=\"none\"/>\n",
              "    <path d=\"M18.56 5.44l.94 2.06.94-2.06 2.06-.94-2.06-.94-.94-2.06-.94 2.06-2.06.94zm-11 1L8.5 8.5l.94-2.06 2.06-.94-2.06-.94L8.5 2.5l-.94 2.06-2.06.94zm10 10l.94 2.06.94-2.06 2.06-.94-2.06-.94-.94-2.06-.94 2.06-2.06.94z\"/><path d=\"M17.41 7.96l-1.37-1.37c-.4-.4-.92-.59-1.43-.59-.52 0-1.04.2-1.43.59L10.3 9.45l-7.72 7.72c-.78.78-.78 2.05 0 2.83L4 21.41c.39.39.9.59 1.41.59.51 0 1.02-.2 1.41-.59l7.78-7.78 2.81-2.81c.8-.78.8-2.07 0-2.86zM5.41 20L4 18.59l7.72-7.72 1.47 1.35L5.41 20z\"/>\n",
              "  </svg>\n",
              "      </button>\n",
              "      \n",
              "  <style>\n",
              "    .colab-df-container {\n",
              "      display:flex;\n",
              "      flex-wrap:wrap;\n",
              "      gap: 12px;\n",
              "    }\n",
              "\n",
              "    .colab-df-convert {\n",
              "      background-color: #E8F0FE;\n",
              "      border: none;\n",
              "      border-radius: 50%;\n",
              "      cursor: pointer;\n",
              "      display: none;\n",
              "      fill: #1967D2;\n",
              "      height: 32px;\n",
              "      padding: 0 0 0 0;\n",
              "      width: 32px;\n",
              "    }\n",
              "\n",
              "    .colab-df-convert:hover {\n",
              "      background-color: #E2EBFA;\n",
              "      box-shadow: 0px 1px 2px rgba(60, 64, 67, 0.3), 0px 1px 3px 1px rgba(60, 64, 67, 0.15);\n",
              "      fill: #174EA6;\n",
              "    }\n",
              "\n",
              "    [theme=dark] .colab-df-convert {\n",
              "      background-color: #3B4455;\n",
              "      fill: #D2E3FC;\n",
              "    }\n",
              "\n",
              "    [theme=dark] .colab-df-convert:hover {\n",
              "      background-color: #434B5C;\n",
              "      box-shadow: 0px 1px 3px 1px rgba(0, 0, 0, 0.15);\n",
              "      filter: drop-shadow(0px 1px 2px rgba(0, 0, 0, 0.3));\n",
              "      fill: #FFFFFF;\n",
              "    }\n",
              "  </style>\n",
              "\n",
              "      <script>\n",
              "        const buttonEl =\n",
              "          document.querySelector('#df-d09362e7-d1ab-44b3-8f68-b3bcb62faadd button.colab-df-convert');\n",
              "        buttonEl.style.display =\n",
              "          google.colab.kernel.accessAllowed ? 'block' : 'none';\n",
              "\n",
              "        async function convertToInteractive(key) {\n",
              "          const element = document.querySelector('#df-d09362e7-d1ab-44b3-8f68-b3bcb62faadd');\n",
              "          const dataTable =\n",
              "            await google.colab.kernel.invokeFunction('convertToInteractive',\n",
              "                                                     [key], {});\n",
              "          if (!dataTable) return;\n",
              "\n",
              "          const docLinkHtml = 'Like what you see? Visit the ' +\n",
              "            '<a target=\"_blank\" href=https://colab.research.google.com/notebooks/data_table.ipynb>data table notebook</a>'\n",
              "            + ' to learn more about interactive tables.';\n",
              "          element.innerHTML = '';\n",
              "          dataTable['output_type'] = 'display_data';\n",
              "          await google.colab.output.renderOutput(dataTable, element);\n",
              "          const docLink = document.createElement('div');\n",
              "          docLink.innerHTML = docLinkHtml;\n",
              "          element.appendChild(docLink);\n",
              "        }\n",
              "      </script>\n",
              "    </div>\n",
              "  </div>\n",
              "  "
            ]
          },
          "metadata": {},
          "execution_count": 62
        }
      ],
      "source": [
        "top15_features"
      ]
    },
    {
      "cell_type": "markdown",
      "metadata": {
        "id": "ABYLJtNjP6Cb"
      },
      "source": [
        "4.3. Train Neural Network Model"
      ]
    },
    {
      "cell_type": "code",
      "execution_count": 63,
      "metadata": {
        "id": "O-bDtbDjJttm"
      },
      "outputs": [],
      "source": [
        "# Feed forward neural network\n",
        "def create_model():\n",
        "    model = keras.Sequential([\n",
        "        ### layer input\n",
        "        keras.layers.Dense(30, input_dim=15, activation='relu'),\n",
        "        ###  layer 1\n",
        "        keras.layers.Dense(15, activation='relu'),\n",
        "        ###  layer 2\n",
        "        keras.layers.Dense(5, activation='relu'),\n",
        "        ### layer output\n",
        "        keras.layers.Dense(units=1, activation='sigmoid')\n",
        "    ])\n",
        "    model.compile(optimizer='adam', loss='binary_crossentropy')\n",
        "    return model"
      ]
    },
    {
      "cell_type": "code",
      "execution_count": 64,
      "metadata": {
        "id": "eVz6qSCGQJBJ"
      },
      "outputs": [],
      "source": [
        "# wrap the model using the function you created\n",
        "NN_model = KerasClassifier(build_fn=create_model, epochs=64, batch_size=32, verbose=0)"
      ]
    },
    {
      "cell_type": "code",
      "execution_count": 65,
      "metadata": {
        "id": "xRNmgCkA9Y0h"
      },
      "outputs": [],
      "source": [
        "keras_model = create_model()"
      ]
    },
    {
      "cell_type": "code",
      "execution_count": 66,
      "metadata": {
        "id": "JoHtyOct9ZQE",
        "colab": {
          "base_uri": "https://localhost:8080/"
        },
        "outputId": "9d8c1121-60b5-42c1-c590-78bc9b573e71"
      },
      "outputs": [
        {
          "output_type": "stream",
          "name": "stdout",
          "text": [
            "Model: \"sequential_6\"\n",
            "_________________________________________________________________\n",
            " Layer (type)                Output Shape              Param #   \n",
            "=================================================================\n",
            " dense_24 (Dense)            (None, 30)                480       \n",
            "                                                                 \n",
            " dense_25 (Dense)            (None, 15)                465       \n",
            "                                                                 \n",
            " dense_26 (Dense)            (None, 5)                 80        \n",
            "                                                                 \n",
            " dense_27 (Dense)            (None, 1)                 6         \n",
            "                                                                 \n",
            "=================================================================\n",
            "Total params: 1,031\n",
            "Trainable params: 1,031\n",
            "Non-trainable params: 0\n",
            "_________________________________________________________________\n",
            "None\n"
          ]
        }
      ],
      "source": [
        "print(keras_model.summary())"
      ]
    },
    {
      "cell_type": "code",
      "execution_count": 67,
      "metadata": {
        "id": "0lPrxjveR3M3",
        "colab": {
          "base_uri": "https://localhost:8080/",
          "height": 466
        },
        "outputId": "7e2f5d36-374c-4af5-9148-cd74a6802523"
      },
      "outputs": [
        {
          "output_type": "execute_result",
          "data": {
            "image/png": "[encoded data removed]",
            "text/plain": [
              "<IPython.core.display.Image object>"
            ]
          },
          "metadata": {},
          "execution_count": 67
        }
      ],
      "source": [
        "plot_model(keras_model)"
      ]
    },
    {
      "cell_type": "markdown",
      "metadata": {
        "id": "6H3jtmIrQLOQ"
      },
      "source": [
        "4.4. (Optional) Model Selection with Selected Top 15 Features including Neural Network Model"
      ]
    },
    {
      "cell_type": "code",
      "execution_count": 68,
      "metadata": {
        "id": "3yPD0iMPQK7U"
      },
      "outputs": [],
      "source": [
        "# Add our neural network model to our classifiers list.\n",
        "classifiers.append(NN_model)"
      ]
    },
    {
      "cell_type": "code",
      "execution_count": 69,
      "metadata": {
        "id": "xpvZE8tRtASN",
        "colab": {
          "base_uri": "https://localhost:8080/"
        },
        "outputId": "2bd9b310-6598-47c6-f5e3-2ce2fc3ccca1"
      },
      "outputs": [
        {
          "output_type": "stream",
          "name": "stdout",
          "text": [
            "CPU times: user 3.48 s, sys: 2.21 s, total: 5.7 s\n",
            "Wall time: 3.32 s\n",
            "LogisticRegression : F1 value is 37.243 (1.975)\n",
            "==============\n",
            "CPU times: user 2.7 s, sys: 95.2 ms, total: 2.8 s\n",
            "Wall time: 2.73 s\n",
            "DecisionTreeClassifier : F1 value is 34.365 (1.509)\n",
            "==============\n",
            "CPU times: user 35.6 s, sys: 105 ms, total: 35.7 s\n",
            "Wall time: 35.8 s\n",
            "RandomForestClassifier : F1 value is 36.290 (0.871)\n",
            "==============\n",
            "CPU times: user 5.25 s, sys: 56.2 ms, total: 5.31 s\n",
            "Wall time: 5.3 s\n",
            "LGBMClassifier : F1 value is 37.692 (0.852)\n",
            "==============\n",
            "CPU times: user 11.6 s, sys: 39.9 ms, total: 11.7 s\n",
            "Wall time: 11.6 s\n",
            "XGBClassifier : F1 value is 36.912 (0.780)\n",
            "==============\n",
            "CPU times: user 45.7 s, sys: 29 ms, total: 45.7 s\n",
            "Wall time: 45.6 s\n",
            "GradientBoostingClassifier : F1 value is 37.380 (0.866)\n",
            "==============\n",
            "1640/1640 [==============================] - 2s 1ms/step\n",
            "1640/1640 [==============================] - 2s 1ms/step\n",
            "1640/1640 [==============================] - 2s 1ms/step\n",
            "1640/1640 [==============================] - 2s 1ms/step\n",
            "1640/1640 [==============================] - 2s 1ms/step\n",
            "CPU times: user 10min 41s, sys: 45.5 s, total: 11min 26s\n",
            "Wall time: 10min 6s\n",
            "KerasClassifier : F1 value is 37.812 (2.898)\n",
            "==============\n"
          ]
        }
      ],
      "source": [
        "for classifier in classifiers:\n",
        "  pipeline = build_ml_pipeline(classifier)\n",
        "  %time scores = cross_val_score(pipeline, train_validation_data_x_select_features, train_validation_data_y, cv=5, scoring='f1')\n",
        "  print(classifier.__class__.__name__, ': F1 value is %.3f (%.3f)' % (np.mean(scores)*100, np.std(scores)*100))\n",
        "  print('==============')\n",
        "\n",
        "\n",
        "  # NN_model：\n",
        "  # F1 = 34.941, slightly lower than gradient boost of 35.177. But, the variance of the NN_model F1 is 1.284."
      ]
    },
    {
      "cell_type": "markdown",
      "metadata": {
        "id": "4vy3cZ7guiLk"
      },
      "source": [
        "# 6. Hyper-parameter tuning for LightGBM Classifier"
      ]
    },
    {
      "cell_type": "code",
      "execution_count": 101,
      "metadata": {
        "id": "ucQ1x7GnGHcm"
      },
      "outputs": [],
      "source": [
        "# optional \n",
        "sample_user_ids = train_validation_data.user_id.drop_duplicates().sample(frac=0.05) # we only use 5% data for training because of colab's limited calculation ability \n",
        "train_validation_data_sample = train_validation_data[train_validation_data.user_id.isin(sample_user_ids)]"
      ]
    },
    {
      "cell_type": "code",
      "execution_count": 102,
      "metadata": {
        "id": "hwh6srjHwRDo"
      },
      "outputs": [],
      "source": [
        "train_validation_data_sample_x = train_validation_data_sample.drop(['user_id', 'product_id', 'label'],axis=1)[top15_features['feature']]\n",
        "train_validation_data_sample_y = train_validation_data_sample['label']"
      ]
    },
    {
      "cell_type": "code",
      "execution_count": 108,
      "metadata": {
        "id": "bG3wXppgmJDC"
      },
      "outputs": [],
      "source": [
        "param_grid = {\n",
        "    'model__learning_rate':[0.13,0.15,0.17], #default is 0.1\n",
        "    'model__n_estimators':[100], #num of tree we build for each round, default is 100\n",
        "    'model__max_depth':[10,12,14],\n",
        "    'model__num_leaves':[31,35], #default is 31, max number of leaves in one tree\n",
        "    'model__subsample':[0.8,1], #each tree takes x% of total sample\n",
        "    'model__feature_fraction':[0.8,1], # each tree see x% total features \n",
        "    'model__reg_lambda':[0], #default is 0\n",
        "    'model__reg_alpha':[0], #default is 0\n",
        "    'model__objectve': ['binary'], # Default: ‘regression’ for LGBMRegressor, ‘binary’ or ‘multiclass’ for LGBMClassifier\n",
        "    'model__max_bin': [255], # default = 255, max number of bins the feature value will be bucketed in (histogram based grouping!)\n",
        "}"
      ]
    },
    {
      "cell_type": "code",
      "execution_count": 109,
      "metadata": {
        "colab": {
          "base_uri": "https://localhost:8080/"
        },
        "id": "arLrEAdMmJTI",
        "outputId": "b2bb07ac-7e6a-4a43-d52b-454bcca59c1e"
      },
      "outputs": [
        {
          "output_type": "execute_result",
          "data": {
            "text/plain": [
              "GridSearchCV(cv=5,\n",
              "             estimator=Pipeline(steps=[('fillnan',\n",
              "                                        SimpleImputer(fill_value=0.0,\n",
              "                                                      strategy='constant')),\n",
              "                                       ('downSample', RandomUnderSampler()),\n",
              "                                       ('scaler', MinMaxScaler()),\n",
              "                                       ('model', LGBMClassifier())]),\n",
              "             param_grid={'model__feature_fraction': [0.8, 1],\n",
              "                         'model__learning_rate': [0.13, 0.15, 0.17],\n",
              "                         'model__max_bin': [255],\n",
              "                         'model__max_depth': [10, 12, 14],\n",
              "                         'model__n_estimators': [100],\n",
              "                         'model__num_leaves': [31, 35],\n",
              "                         'model__objectve': ['binary'], 'model__reg_alpha': [0],\n",
              "                         'model__reg_lambda': [0],\n",
              "                         'model__subsample': [0.8, 1]},\n",
              "             scoring='f1')"
            ]
          },
          "metadata": {},
          "execution_count": 109
        }
      ],
      "source": [
        "grid = GridSearchCV(build_ml_pipeline(LGBMClassifier()), cv=5, param_grid=param_grid, scoring='f1')\n",
        "grid.fit(train_validation_data_sample_x, train_validation_data_sample_y)"
      ]
    },
    {
      "cell_type": "code",
      "execution_count": 111,
      "metadata": {
        "colab": {
          "base_uri": "https://localhost:8080/"
        },
        "id": "numnXp_OmMmj",
        "outputId": "643a9159-711d-4261-c3ea-a522101597a0"
      },
      "outputs": [
        {
          "output_type": "stream",
          "name": "stdout",
          "text": [
            "Best F1 value is 0.357\n",
            "Params are {'model__feature_fraction': 0.8, 'model__learning_rate': 0.15, 'model__max_bin': 255, 'model__max_depth': 10, 'model__n_estimators': 100, 'model__num_leaves': 35, 'model__objectve': 'binary', 'model__reg_alpha': 0, 'model__reg_lambda': 0, 'model__subsample': 0.8}\n"
          ]
        }
      ],
      "source": [
        "print(\"Best F1 value is %.3f\" % grid.best_score_)\n",
        "print(\"Params are %s\" % grid.best_params_)"
      ]
    },
    {
      "cell_type": "markdown",
      "metadata": {
        "id": "Nqn05xvAywxj"
      },
      "source": [
        "# 7. Train the final GradientBoostingClassifier"
      ]
    },
    {
      "cell_type": "markdown",
      "metadata": {
        "id": "8v8ocP33HOa-"
      },
      "source": [
        "7.1. Train the final model with all training+validation data and the best hyper-parameters."
      ]
    },
    {
      "cell_type": "code",
      "execution_count": 113,
      "metadata": {
        "colab": {
          "base_uri": "https://localhost:8080/"
        },
        "id": "f8ZBUZTPtAPD",
        "outputId": "570b8ea7-d906-46ee-804d-cc5ac2d49552"
      },
      "outputs": [
        {
          "output_type": "execute_result",
          "data": {
            "text/plain": [
              "Pipeline(steps=[('fillnan', SimpleImputer(fill_value=0.0, strategy='constant')),\n",
              "                ('downSample', RandomUnderSampler()),\n",
              "                ('scaler', MinMaxScaler()),\n",
              "                ('model',\n",
              "                 LGBMClassifier(feature_fraction=0.8, learning_rate=0.15,\n",
              "                                max_bin=255, max_depth=10, num_leaves=35))])"
            ]
          },
          "metadata": {},
          "execution_count": 113
        }
      ],
      "source": [
        "#use the best parameter combination just returned above\n",
        "pipeline = build_ml_pipeline(LGBMClassifier(\n",
        "    feature_fraction=0.8,\n",
        "    learning_rate=0.15,\n",
        "    max_bin=255,\n",
        "    max_depth=10,\n",
        "    n_estimators = 100,\n",
        "    num_leaves = 35\n",
        "))\n",
        "\n",
        "pipeline.fit(train_validation_data_x_select_features, train_validation_data_y)"
      ]
    },
    {
      "cell_type": "code",
      "execution_count": 114,
      "metadata": {
        "colab": {
          "base_uri": "https://localhost:8080/",
          "height": 520
        },
        "id": "xjxglMXyrrmH",
        "outputId": "5481bf1a-efdc-48b5-8e57-047e31298d1c"
      },
      "outputs": [
        {
          "output_type": "execute_result",
          "data": {
            "text/plain": [
              "                                 feature  importance\n",
              "0                      user__order_count         362\n",
              "3                   user__reordered_mean         324\n",
              "2                           order_number         317\n",
              "1             user_product__total_orders         251\n",
              "9   user_product__add_to_cart_order_mean         250\n",
              "5      user__days_since_prior_order_mean         242\n",
              "7                    user__product_count         234\n",
              "6   product__days_since_prior_order_mean         225\n",
              "4                product__reordered_mean         222\n",
              "11                days_since_prior_order         185\n",
              "10       product__add_to_cart_order_mean         184\n",
              "8                  product__total_orders         178\n",
              "12                     product__aisle_id         159\n",
              "14                  product__total_users         134\n",
              "13                     order_hour_of_day         133"
            ],
            "text/html": [
              "\n",
              "  <div id=\"df-228a1417-cac0-43d8-9007-3da86cd41868\">\n",
              "    <div class=\"colab-df-container\">\n",
              "      <div>\n",
              "<style scoped>\n",
              "    .dataframe tbody tr th:only-of-type {\n",
              "        vertical-align: middle;\n",
              "    }\n",
              "\n",
              "    .dataframe tbody tr th {\n",
              "        vertical-align: top;\n",
              "    }\n",
              "\n",
              "    .dataframe thead th {\n",
              "        text-align: right;\n",
              "    }\n",
              "</style>\n",
              "<table border=\"1\" class=\"dataframe\">\n",
              "  <thead>\n",
              "    <tr style=\"text-align: right;\">\n",
              "      <th></th>\n",
              "      <th>feature</th>\n",
              "      <th>importance</th>\n",
              "    </tr>\n",
              "  </thead>\n",
              "  <tbody>\n",
              "    <tr>\n",
              "      <th>0</th>\n",
              "      <td>user__order_count</td>\n",
              "      <td>362</td>\n",
              "    </tr>\n",
              "    <tr>\n",
              "      <th>3</th>\n",
              "      <td>user__reordered_mean</td>\n",
              "      <td>324</td>\n",
              "    </tr>\n",
              "    <tr>\n",
              "      <th>2</th>\n",
              "      <td>order_number</td>\n",
              "      <td>317</td>\n",
              "    </tr>\n",
              "    <tr>\n",
              "      <th>1</th>\n",
              "      <td>user_product__total_orders</td>\n",
              "      <td>251</td>\n",
              "    </tr>\n",
              "    <tr>\n",
              "      <th>9</th>\n",
              "      <td>user_product__add_to_cart_order_mean</td>\n",
              "      <td>250</td>\n",
              "    </tr>\n",
              "    <tr>\n",
              "      <th>5</th>\n",
              "      <td>user__days_since_prior_order_mean</td>\n",
              "      <td>242</td>\n",
              "    </tr>\n",
              "    <tr>\n",
              "      <th>7</th>\n",
              "      <td>user__product_count</td>\n",
              "      <td>234</td>\n",
              "    </tr>\n",
              "    <tr>\n",
              "      <th>6</th>\n",
              "      <td>product__days_since_prior_order_mean</td>\n",
              "      <td>225</td>\n",
              "    </tr>\n",
              "    <tr>\n",
              "      <th>4</th>\n",
              "      <td>product__reordered_mean</td>\n",
              "      <td>222</td>\n",
              "    </tr>\n",
              "    <tr>\n",
              "      <th>11</th>\n",
              "      <td>days_since_prior_order</td>\n",
              "      <td>185</td>\n",
              "    </tr>\n",
              "    <tr>\n",
              "      <th>10</th>\n",
              "      <td>product__add_to_cart_order_mean</td>\n",
              "      <td>184</td>\n",
              "    </tr>\n",
              "    <tr>\n",
              "      <th>8</th>\n",
              "      <td>product__total_orders</td>\n",
              "      <td>178</td>\n",
              "    </tr>\n",
              "    <tr>\n",
              "      <th>12</th>\n",
              "      <td>product__aisle_id</td>\n",
              "      <td>159</td>\n",
              "    </tr>\n",
              "    <tr>\n",
              "      <th>14</th>\n",
              "      <td>product__total_users</td>\n",
              "      <td>134</td>\n",
              "    </tr>\n",
              "    <tr>\n",
              "      <th>13</th>\n",
              "      <td>order_hour_of_day</td>\n",
              "      <td>133</td>\n",
              "    </tr>\n",
              "  </tbody>\n",
              "</table>\n",
              "</div>\n",
              "      <button class=\"colab-df-convert\" onclick=\"convertToInteractive('df-228a1417-cac0-43d8-9007-3da86cd41868')\"\n",
              "              title=\"Convert this dataframe to an interactive table.\"\n",
              "              style=\"display:none;\">\n",
              "        \n",
              "  <svg xmlns=\"http://www.w3.org/2000/svg\" height=\"24px\"viewBox=\"0 0 24 24\"\n",
              "       width=\"24px\">\n",
              "    <path d=\"M0 0h24v24H0V0z\" fill=\"none\"/>\n",
              "    <path d=\"M18.56 5.44l.94 2.06.94-2.06 2.06-.94-2.06-.94-.94-2.06-.94 2.06-2.06.94zm-11 1L8.5 8.5l.94-2.06 2.06-.94-2.06-.94L8.5 2.5l-.94 2.06-2.06.94zm10 10l.94 2.06.94-2.06 2.06-.94-2.06-.94-.94-2.06-.94 2.06-2.06.94z\"/><path d=\"M17.41 7.96l-1.37-1.37c-.4-.4-.92-.59-1.43-.59-.52 0-1.04.2-1.43.59L10.3 9.45l-7.72 7.72c-.78.78-.78 2.05 0 2.83L4 21.41c.39.39.9.59 1.41.59.51 0 1.02-.2 1.41-.59l7.78-7.78 2.81-2.81c.8-.78.8-2.07 0-2.86zM5.41 20L4 18.59l7.72-7.72 1.47 1.35L5.41 20z\"/>\n",
              "  </svg>\n",
              "      </button>\n",
              "      \n",
              "  <style>\n",
              "    .colab-df-container {\n",
              "      display:flex;\n",
              "      flex-wrap:wrap;\n",
              "      gap: 12px;\n",
              "    }\n",
              "\n",
              "    .colab-df-convert {\n",
              "      background-color: #E8F0FE;\n",
              "      border: none;\n",
              "      border-radius: 50%;\n",
              "      cursor: pointer;\n",
              "      display: none;\n",
              "      fill: #1967D2;\n",
              "      height: 32px;\n",
              "      padding: 0 0 0 0;\n",
              "      width: 32px;\n",
              "    }\n",
              "\n",
              "    .colab-df-convert:hover {\n",
              "      background-color: #E2EBFA;\n",
              "      box-shadow: 0px 1px 2px rgba(60, 64, 67, 0.3), 0px 1px 3px 1px rgba(60, 64, 67, 0.15);\n",
              "      fill: #174EA6;\n",
              "    }\n",
              "\n",
              "    [theme=dark] .colab-df-convert {\n",
              "      background-color: #3B4455;\n",
              "      fill: #D2E3FC;\n",
              "    }\n",
              "\n",
              "    [theme=dark] .colab-df-convert:hover {\n",
              "      background-color: #434B5C;\n",
              "      box-shadow: 0px 1px 3px 1px rgba(0, 0, 0, 0.15);\n",
              "      filter: drop-shadow(0px 1px 2px rgba(0, 0, 0, 0.3));\n",
              "      fill: #FFFFFF;\n",
              "    }\n",
              "  </style>\n",
              "\n",
              "      <script>\n",
              "        const buttonEl =\n",
              "          document.querySelector('#df-228a1417-cac0-43d8-9007-3da86cd41868 button.colab-df-convert');\n",
              "        buttonEl.style.display =\n",
              "          google.colab.kernel.accessAllowed ? 'block' : 'none';\n",
              "\n",
              "        async function convertToInteractive(key) {\n",
              "          const element = document.querySelector('#df-228a1417-cac0-43d8-9007-3da86cd41868');\n",
              "          const dataTable =\n",
              "            await google.colab.kernel.invokeFunction('convertToInteractive',\n",
              "                                                     [key], {});\n",
              "          if (!dataTable) return;\n",
              "\n",
              "          const docLinkHtml = 'Like what you see? Visit the ' +\n",
              "            '<a target=\"_blank\" href=https://colab.research.google.com/notebooks/data_table.ipynb>data table notebook</a>'\n",
              "            + ' to learn more about interactive tables.';\n",
              "          element.innerHTML = '';\n",
              "          dataTable['output_type'] = 'display_data';\n",
              "          await google.colab.output.renderOutput(dataTable, element);\n",
              "          const docLink = document.createElement('div');\n",
              "          docLink.innerHTML = docLinkHtml;\n",
              "          element.appendChild(docLink);\n",
              "        }\n",
              "      </script>\n",
              "    </div>\n",
              "  </div>\n",
              "  "
            ]
          },
          "metadata": {},
          "execution_count": 114
        }
      ],
      "source": [
        "importances = pipeline.steps[3][1].feature_importances_\n",
        "feature_names=train_validation_data_x_select_features.columns.tolist()\n",
        "df_importances = pd.DataFrame(\n",
        "    {\"feature\":feature_names, \"importance\":importances}).sort_values(\"importance\", ascending=False)\n",
        "df_importances.head(15)"
      ]
    },
    {
      "cell_type": "markdown",
      "metadata": {
        "id": "mw9sVzvD05tW"
      },
      "source": [
        "# 8. Evaluate model on Test Data"
      ]
    },
    {
      "cell_type": "markdown",
      "metadata": {
        "id": "r4jPG0FjH_n6"
      },
      "source": [
        "8.1. Predict product reorder on Test Data"
      ]
    },
    {
      "cell_type": "code",
      "execution_count": 115,
      "metadata": {
        "id": "zpbLdh5B1cVi"
      },
      "outputs": [],
      "source": [
        "test_data_x_selected_features = test_data.drop(['user_id', 'product_id', 'label'],axis=1)[top15_features['feature']]\n",
        "test_data_y = test_data['label']"
      ]
    },
    {
      "cell_type": "code",
      "execution_count": 116,
      "metadata": {
        "id": "rizYT4wLrrj9"
      },
      "outputs": [],
      "source": [
        "predict_y = pipeline.predict(test_data_x_selected_features)"
      ]
    },
    {
      "cell_type": "code",
      "execution_count": 117,
      "metadata": {
        "id": "nKmMW2FO6uA2"
      },
      "outputs": [],
      "source": [
        "df_output = pd.DataFrame(\n",
        "    {\"user_id\":test_data.user_id, \"product_id\":test_data.product_id, \"predict\":predict_y, \"label\":test_data.label})   "
      ]
    },
    {
      "cell_type": "code",
      "execution_count": 118,
      "metadata": {
        "colab": {
          "base_uri": "https://localhost:8080/",
          "height": 206
        },
        "id": "CfOrPEA77eMg",
        "outputId": "f41278d6-5757-4591-81a3-c2fb13362c50"
      },
      "outputs": [
        {
          "output_type": "execute_result",
          "data": {
            "text/plain": [
              "     user_id  product_id  predict  label\n",
              "914   179438       43772        0      0\n",
              "915   179438       46886        0      0\n",
              "916   179438        6414        1      1\n",
              "917   179438       16797        0      1\n",
              "918   179438       42356        0      0"
            ],
            "text/html": [
              "\n",
              "  <div id=\"df-76c54579-e60c-482d-a804-1439daefc8e1\">\n",
              "    <div class=\"colab-df-container\">\n",
              "      <div>\n",
              "<style scoped>\n",
              "    .dataframe tbody tr th:only-of-type {\n",
              "        vertical-align: middle;\n",
              "    }\n",
              "\n",
              "    .dataframe tbody tr th {\n",
              "        vertical-align: top;\n",
              "    }\n",
              "\n",
              "    .dataframe thead th {\n",
              "        text-align: right;\n",
              "    }\n",
              "</style>\n",
              "<table border=\"1\" class=\"dataframe\">\n",
              "  <thead>\n",
              "    <tr style=\"text-align: right;\">\n",
              "      <th></th>\n",
              "      <th>user_id</th>\n",
              "      <th>product_id</th>\n",
              "      <th>predict</th>\n",
              "      <th>label</th>\n",
              "    </tr>\n",
              "  </thead>\n",
              "  <tbody>\n",
              "    <tr>\n",
              "      <th>914</th>\n",
              "      <td>179438</td>\n",
              "      <td>43772</td>\n",
              "      <td>0</td>\n",
              "      <td>0</td>\n",
              "    </tr>\n",
              "    <tr>\n",
              "      <th>915</th>\n",
              "      <td>179438</td>\n",
              "      <td>46886</td>\n",
              "      <td>0</td>\n",
              "      <td>0</td>\n",
              "    </tr>\n",
              "    <tr>\n",
              "      <th>916</th>\n",
              "      <td>179438</td>\n",
              "      <td>6414</td>\n",
              "      <td>1</td>\n",
              "      <td>1</td>\n",
              "    </tr>\n",
              "    <tr>\n",
              "      <th>917</th>\n",
              "      <td>179438</td>\n",
              "      <td>16797</td>\n",
              "      <td>0</td>\n",
              "      <td>1</td>\n",
              "    </tr>\n",
              "    <tr>\n",
              "      <th>918</th>\n",
              "      <td>179438</td>\n",
              "      <td>42356</td>\n",
              "      <td>0</td>\n",
              "      <td>0</td>\n",
              "    </tr>\n",
              "  </tbody>\n",
              "</table>\n",
              "</div>\n",
              "      <button class=\"colab-df-convert\" onclick=\"convertToInteractive('df-76c54579-e60c-482d-a804-1439daefc8e1')\"\n",
              "              title=\"Convert this dataframe to an interactive table.\"\n",
              "              style=\"display:none;\">\n",
              "        \n",
              "  <svg xmlns=\"http://www.w3.org/2000/svg\" height=\"24px\"viewBox=\"0 0 24 24\"\n",
              "       width=\"24px\">\n",
              "    <path d=\"M0 0h24v24H0V0z\" fill=\"none\"/>\n",
              "    <path d=\"M18.56 5.44l.94 2.06.94-2.06 2.06-.94-2.06-.94-.94-2.06-.94 2.06-2.06.94zm-11 1L8.5 8.5l.94-2.06 2.06-.94-2.06-.94L8.5 2.5l-.94 2.06-2.06.94zm10 10l.94 2.06.94-2.06 2.06-.94-2.06-.94-.94-2.06-.94 2.06-2.06.94z\"/><path d=\"M17.41 7.96l-1.37-1.37c-.4-.4-.92-.59-1.43-.59-.52 0-1.04.2-1.43.59L10.3 9.45l-7.72 7.72c-.78.78-.78 2.05 0 2.83L4 21.41c.39.39.9.59 1.41.59.51 0 1.02-.2 1.41-.59l7.78-7.78 2.81-2.81c.8-.78.8-2.07 0-2.86zM5.41 20L4 18.59l7.72-7.72 1.47 1.35L5.41 20z\"/>\n",
              "  </svg>\n",
              "      </button>\n",
              "      \n",
              "  <style>\n",
              "    .colab-df-container {\n",
              "      display:flex;\n",
              "      flex-wrap:wrap;\n",
              "      gap: 12px;\n",
              "    }\n",
              "\n",
              "    .colab-df-convert {\n",
              "      background-color: #E8F0FE;\n",
              "      border: none;\n",
              "      border-radius: 50%;\n",
              "      cursor: pointer;\n",
              "      display: none;\n",
              "      fill: #1967D2;\n",
              "      height: 32px;\n",
              "      padding: 0 0 0 0;\n",
              "      width: 32px;\n",
              "    }\n",
              "\n",
              "    .colab-df-convert:hover {\n",
              "      background-color: #E2EBFA;\n",
              "      box-shadow: 0px 1px 2px rgba(60, 64, 67, 0.3), 0px 1px 3px 1px rgba(60, 64, 67, 0.15);\n",
              "      fill: #174EA6;\n",
              "    }\n",
              "\n",
              "    [theme=dark] .colab-df-convert {\n",
              "      background-color: #3B4455;\n",
              "      fill: #D2E3FC;\n",
              "    }\n",
              "\n",
              "    [theme=dark] .colab-df-convert:hover {\n",
              "      background-color: #434B5C;\n",
              "      box-shadow: 0px 1px 3px 1px rgba(0, 0, 0, 0.15);\n",
              "      filter: drop-shadow(0px 1px 2px rgba(0, 0, 0, 0.3));\n",
              "      fill: #FFFFFF;\n",
              "    }\n",
              "  </style>\n",
              "\n",
              "      <script>\n",
              "        const buttonEl =\n",
              "          document.querySelector('#df-76c54579-e60c-482d-a804-1439daefc8e1 button.colab-df-convert');\n",
              "        buttonEl.style.display =\n",
              "          google.colab.kernel.accessAllowed ? 'block' : 'none';\n",
              "\n",
              "        async function convertToInteractive(key) {\n",
              "          const element = document.querySelector('#df-76c54579-e60c-482d-a804-1439daefc8e1');\n",
              "          const dataTable =\n",
              "            await google.colab.kernel.invokeFunction('convertToInteractive',\n",
              "                                                     [key], {});\n",
              "          if (!dataTable) return;\n",
              "\n",
              "          const docLinkHtml = 'Like what you see? Visit the ' +\n",
              "            '<a target=\"_blank\" href=https://colab.research.google.com/notebooks/data_table.ipynb>data table notebook</a>'\n",
              "            + ' to learn more about interactive tables.';\n",
              "          element.innerHTML = '';\n",
              "          dataTable['output_type'] = 'display_data';\n",
              "          await google.colab.output.renderOutput(dataTable, element);\n",
              "          const docLink = document.createElement('div');\n",
              "          docLink.innerHTML = docLinkHtml;\n",
              "          element.appendChild(docLink);\n",
              "        }\n",
              "      </script>\n",
              "    </div>\n",
              "  </div>\n",
              "  "
            ]
          },
          "metadata": {},
          "execution_count": 118
        }
      ],
      "source": [
        "df_output.head()"
      ]
    },
    {
      "cell_type": "code",
      "execution_count": 119,
      "metadata": {
        "id": "4L6ljHzwjbvH"
      },
      "outputs": [],
      "source": [
        "predict_y_prob = pipeline.predict_proba(test_data_x_selected_features)[:,1]"
      ]
    },
    {
      "cell_type": "markdown",
      "metadata": {
        "id": "AFk7X0L6IH5M"
      },
      "source": [
        "8.2. Analyze classification result"
      ]
    },
    {
      "cell_type": "code",
      "execution_count": 120,
      "metadata": {
        "colab": {
          "base_uri": "https://localhost:8080/",
          "height": 297
        },
        "id": "TCUtHi3BrraA",
        "outputId": "21bf7407-f25d-4525-eda1-9afb61054934"
      },
      "outputs": [
        {
          "output_type": "execute_result",
          "data": {
            "text/plain": [
              "<sklearn.metrics._plot.confusion_matrix.ConfusionMatrixDisplay at 0x7fba61d4da60>"
            ]
          },
          "metadata": {},
          "execution_count": 120
        },
        {
          "output_type": "display_data",
          "data": {
            "text/plain": [
              "<Figure size 432x288 with 2 Axes>"
            ],
            "image/png": "[encoded data removed]"
          },
          "metadata": {
            "needs_background": "light"
          }
        }
      ],
      "source": [
        "plot_confusion_matrix(pipeline, test_data_x_selected_features, test_data_y,\n",
        "                      display_labels=[\"not reorder\",\"reorder\"],cmap=plt.cm.Blues)"
      ]
    },
    {
      "cell_type": "code",
      "execution_count": 121,
      "metadata": {
        "id": "NDjIATvirrUk"
      },
      "outputs": [],
      "source": [
        "acc = accuracy_score(test_data_y, predict_y)\n",
        "f1 = f1_score(test_data_y, predict_y)\n",
        "pre = precision_score(test_data_y, predict_y)\n",
        "rec = recall_score(test_data_y, predict_y)\n",
        "auc = roc_auc_score(test_data_y, predict_y_prob)"
      ]
    },
    {
      "cell_type": "code",
      "execution_count": 122,
      "metadata": {
        "colab": {
          "base_uri": "https://localhost:8080/"
        },
        "id": "LxOiEL5d4pFz",
        "outputId": "fcf054c3-c6fe-4340-f0de-6fdfd88196a9"
      },
      "outputs": [
        {
          "output_type": "stream",
          "name": "stdout",
          "text": [
            "Model evaluation result on test data: \n",
            "F1 Score : 36.3693%\n",
            "ROC AUC : 91.8804%\n",
            "Accuracy : 78.7071%\n",
            "Precision : 22.6295%\n",
            "Recall : 92.5801%\n"
          ]
        }
      ],
      "source": [
        "print(\"Model evaluation result on test data: \")\n",
        "print(\"F1 Score : {:.4%}\".format(f1))\n",
        "print(\"ROC AUC : {:.4%}\".format(auc))\n",
        "print(\"Accuracy : {:.4%}\".format(acc))\n",
        "print(\"Precision : {:.4%}\".format(pre))\n",
        "print(\"Recall : {:.4%}\".format(rec))"
      ]
    }
  ],
  "metadata": {
    "colab": {
      "provenance": []
    },
    "kernelspec": {
      "display_name": "Python 3",
      "name": "python3"
    }
  },
  "nbformat": 4,
  "nbformat_minor": 0
}