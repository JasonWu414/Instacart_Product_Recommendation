{
  "nbformat": 4,
  "nbformat_minor": 0,
  "metadata": {
    "colab": {
      "provenance": []
    },
    "kernelspec": {
      "name": "python3",
      "display_name": "Python 3"
    },
    "language_info": {
      "name": "python"
    }
  },
  "cells": [
    {
      "cell_type": "markdown",
      "metadata": {
        "id": "jNjonBeoik-D"
      },
      "source": [
        "# eCommerce Product Recommendation - Part 2"
      ]
    },
    {
      "cell_type": "markdown",
      "metadata": {
        "id": "N6t0UrFailUu"
      },
      "source": [
        "# 1. Load Raw Data to Colab"
      ]
    },
    {
      "cell_type": "code",
      "metadata": {
        "id": "z-2tmfYHbbk-"
      },
      "source": [
        "import pandas as pd\n",
        "import numpy as np\n",
        "import pandas as pd\n",
        "import matplotlib.pyplot as plt\n",
        "import seaborn as sns\n",
        "from collections import OrderedDict"
      ],
      "execution_count": null,
      "outputs": []
    },
    {
      "cell_type": "code",
      "metadata": {
        "id": "w1gluoVYbi_e",
        "colab": {
          "base_uri": "https://localhost:8080/"
        },
        "outputId": "a7474366-942e-4e85-e017-34186ad8dee5"
      },
      "source": [
        "from google.colab import drive\n",
        "drive.mount('/content/drive')"
      ],
      "execution_count": null,
      "outputs": [
        {
          "output_type": "stream",
          "name": "stdout",
          "text": [
            "Mounted at /content/drive\n"
          ]
        }
      ]
    },
    {
      "cell_type": "code",
      "metadata": {
        "id": "L8SMYe1TY_GV",
        "colab": {
          "base_uri": "https://localhost:8080/"
        },
        "outputId": "e69e8aaa-3940-4400-fbe3-955e0f831abf"
      },
      "source": [
        "cd /content/drive/MyDrive/Laioffer/csv_files/RecSys_eComm/"
      ],
      "execution_count": null,
      "outputs": [
        {
          "output_type": "stream",
          "name": "stdout",
          "text": [
            "/content/drive/MyDrive/Laioffer/csv_files/RecSys_eComm\n"
          ]
        }
      ]
    },
    {
      "cell_type": "code",
      "metadata": {
        "colab": {
          "base_uri": "https://localhost:8080/"
        },
        "id": "9sL79hKaY_C6",
        "outputId": "121603b2-b197-42dd-d397-bddee827061e"
      },
      "source": [
        "ls"
      ],
      "execution_count": null,
      "outputs": [
        {
          "output_type": "stream",
          "name": "stdout",
          "text": [
            "aisles.csv       model_all_data.csv  order_products_prior.csv  orders.csv\n",
            "departments.csv  model.png           order_products_train.csv  products.csv\n"
          ]
        }
      ]
    },
    {
      "cell_type": "code",
      "metadata": {
        "id": "R66Cct8rZJE4"
      },
      "source": [
        "aisles = pd.read_csv('/content/drive/MyDrive/RecSys_eComm/aisles.csv')\n",
        "departments = pd.read_csv('/content/drive/MyDrive/RecSys_eComm/departments.csv')\n",
        "order_products_prior = pd.read_csv('/content/drive/MyDrive/RecSys_eComm/order_products_prior.csv')\n",
        "order_products_train = pd.read_csv('/content/drive/MyDrive/RecSys_eComm/order_products_train.csv')\n",
        "orders = pd.read_csv('/content/drive/MyDrive/RecSys_eComm/orders.csv')\n",
        "products = pd.read_csv('/content/drive/MyDrive/RecSys_eComm/products.csv')"
      ],
      "execution_count": null,
      "outputs": []
    },
    {
      "cell_type": "markdown",
      "metadata": {
        "id": "_UR9aj6ZbroG"
      },
      "source": [
        "# 1. Construct Model Label"
      ]
    },
    {
      "cell_type": "markdown",
      "metadata": {
        "id": "oJe4HJI7eeqb"
      },
      "source": [
        "思考: 为什么不能直接使用`reordered`column中的数据作为model label？\n",
        "\n",
        "reordered: 1 if this product has been ordered by this user in the past, 0 otherwise\n",
        "\n",
        "- 买过1次 or 多次的，均为1. 从未购买过为0.\n",
        "- 我们需要在1里，找出购买过2次 or 2次以上的客户。\n",
        "\n",
        "\n",
        "思考：为什么我们需要使用both prior & train datasets\n",
        "\n",
        "### 答: 我们最终目标是预测未来,但是没有未来数据,所以我门要在过去某个时间节点砍一刀,吧这个时间节点之前的一段时间作为Train, 之后的时间作为test\n",
        "\n",
        "\n"
      ]
    },
    {
      "cell_type": "markdown",
      "source": [
        "### double click this chunk to view the relationship! \n",
        "这是我们自己设定的label! \n",
        "如何split prior和train? 公司不同组定义不同, 如可以是prior过去的第4-9个月, train为最近1-3个月\n",
        "\n",
        "      Ex. 2021                              Ex.2022.         predict\n",
        "[------prior--------------] @ [---------------train-------] ---------> future \n",
        "                           Tiff\n",
        "      0  Never                         0 没复购\n",
        "      1  复购                           1 复购\n",
        "\n",
        "train label 在这里等同于为未来 也是我们要predict的label, 如果prior是0 无论未来买不买, 都不算复购, 因为我们对于复购的定义就是在prior阶段买了产品,再在train阶段再买才算复购.\n",
        "\n",
        "prior 0 +train 0 = label 0 2021没买 无论2022买不买 直接label为0\n",
        "prior 0 + train 1 = label 0 2021没买 无论2022买不买 直接label为0\n",
        "prior 1 + train 0 = label 0 如果2021买了, 2022没买, 哪label是0\n",
        "prior 1 + train 1 = label 1 如果2021,2022都买了 才算label 1, 因为train是我们要预测的data,如果train是1 才代表真的复购了\n"
      ],
      "metadata": {
        "id": "gcfCfaQBGW17"
      }
    },
    {
      "cell_type": "markdown",
      "source": [
        "### Now we start to add the label (Step 1 - 5)"
      ],
      "metadata": {
        "id": "sLvcbwuXDiPy"
      }
    },
    {
      "cell_type": "code",
      "source": [
        "#Step1: get the all information of the prior dataset because orders contains addtional features we needed for prior\n",
        "prior_all_info = order_products_prior.merge(orders, on = 'order_id')\n",
        "prior_all_info.head(3)"
      ],
      "metadata": {
        "colab": {
          "base_uri": "https://localhost:8080/",
          "height": 143
        },
        "id": "jm0aCxKWEBQq",
        "outputId": "aa20de55-03a3-44f4-f850-a9c4472ba275"
      },
      "execution_count": null,
      "outputs": [
        {
          "output_type": "execute_result",
          "data": {
            "text/plain": [
              "   order_id  product_id  add_to_cart_order  reordered  user_id eval_set  \\\n",
              "0        12       30597                  1          1   152610    prior   \n",
              "1        12       15221                  2          1   152610    prior   \n",
              "2        12       43772                  3          1   152610    prior   \n",
              "\n",
              "   order_number  order_dow  order_hour_of_day  days_since_prior_order  \n",
              "0            22          6                  8                    10.0  \n",
              "1            22          6                  8                    10.0  \n",
              "2            22          6                  8                    10.0  "
            ],
            "text/html": [
              "\n",
              "  <div id=\"df-383a03ff-0a95-42c3-8fde-6a5ceafb948d\">\n",
              "    <div class=\"colab-df-container\">\n",
              "      <div>\n",
              "<style scoped>\n",
              "    .dataframe tbody tr th:only-of-type {\n",
              "        vertical-align: middle;\n",
              "    }\n",
              "\n",
              "    .dataframe tbody tr th {\n",
              "        vertical-align: top;\n",
              "    }\n",
              "\n",
              "    .dataframe thead th {\n",
              "        text-align: right;\n",
              "    }\n",
              "</style>\n",
              "<table border=\"1\" class=\"dataframe\">\n",
              "  <thead>\n",
              "    <tr style=\"text-align: right;\">\n",
              "      <th></th>\n",
              "      <th>order_id</th>\n",
              "      <th>product_id</th>\n",
              "      <th>add_to_cart_order</th>\n",
              "      <th>reordered</th>\n",
              "      <th>user_id</th>\n",
              "      <th>eval_set</th>\n",
              "      <th>order_number</th>\n",
              "      <th>order_dow</th>\n",
              "      <th>order_hour_of_day</th>\n",
              "      <th>days_since_prior_order</th>\n",
              "    </tr>\n",
              "  </thead>\n",
              "  <tbody>\n",
              "    <tr>\n",
              "      <th>0</th>\n",
              "      <td>12</td>\n",
              "      <td>30597</td>\n",
              "      <td>1</td>\n",
              "      <td>1</td>\n",
              "      <td>152610</td>\n",
              "      <td>prior</td>\n",
              "      <td>22</td>\n",
              "      <td>6</td>\n",
              "      <td>8</td>\n",
              "      <td>10.0</td>\n",
              "    </tr>\n",
              "    <tr>\n",
              "      <th>1</th>\n",
              "      <td>12</td>\n",
              "      <td>15221</td>\n",
              "      <td>2</td>\n",
              "      <td>1</td>\n",
              "      <td>152610</td>\n",
              "      <td>prior</td>\n",
              "      <td>22</td>\n",
              "      <td>6</td>\n",
              "      <td>8</td>\n",
              "      <td>10.0</td>\n",
              "    </tr>\n",
              "    <tr>\n",
              "      <th>2</th>\n",
              "      <td>12</td>\n",
              "      <td>43772</td>\n",
              "      <td>3</td>\n",
              "      <td>1</td>\n",
              "      <td>152610</td>\n",
              "      <td>prior</td>\n",
              "      <td>22</td>\n",
              "      <td>6</td>\n",
              "      <td>8</td>\n",
              "      <td>10.0</td>\n",
              "    </tr>\n",
              "  </tbody>\n",
              "</table>\n",
              "</div>\n",
              "      <button class=\"colab-df-convert\" onclick=\"convertToInteractive('df-383a03ff-0a95-42c3-8fde-6a5ceafb948d')\"\n",
              "              title=\"Convert this dataframe to an interactive table.\"\n",
              "              style=\"display:none;\">\n",
              "        \n",
              "  <svg xmlns=\"http://www.w3.org/2000/svg\" height=\"24px\"viewBox=\"0 0 24 24\"\n",
              "       width=\"24px\">\n",
              "    <path d=\"M0 0h24v24H0V0z\" fill=\"none\"/>\n",
              "    <path d=\"M18.56 5.44l.94 2.06.94-2.06 2.06-.94-2.06-.94-.94-2.06-.94 2.06-2.06.94zm-11 1L8.5 8.5l.94-2.06 2.06-.94-2.06-.94L8.5 2.5l-.94 2.06-2.06.94zm10 10l.94 2.06.94-2.06 2.06-.94-2.06-.94-.94-2.06-.94 2.06-2.06.94z\"/><path d=\"M17.41 7.96l-1.37-1.37c-.4-.4-.92-.59-1.43-.59-.52 0-1.04.2-1.43.59L10.3 9.45l-7.72 7.72c-.78.78-.78 2.05 0 2.83L4 21.41c.39.39.9.59 1.41.59.51 0 1.02-.2 1.41-.59l7.78-7.78 2.81-2.81c.8-.78.8-2.07 0-2.86zM5.41 20L4 18.59l7.72-7.72 1.47 1.35L5.41 20z\"/>\n",
              "  </svg>\n",
              "      </button>\n",
              "      \n",
              "  <style>\n",
              "    .colab-df-container {\n",
              "      display:flex;\n",
              "      flex-wrap:wrap;\n",
              "      gap: 12px;\n",
              "    }\n",
              "\n",
              "    .colab-df-convert {\n",
              "      background-color: #E8F0FE;\n",
              "      border: none;\n",
              "      border-radius: 50%;\n",
              "      cursor: pointer;\n",
              "      display: none;\n",
              "      fill: #1967D2;\n",
              "      height: 32px;\n",
              "      padding: 0 0 0 0;\n",
              "      width: 32px;\n",
              "    }\n",
              "\n",
              "    .colab-df-convert:hover {\n",
              "      background-color: #E2EBFA;\n",
              "      box-shadow: 0px 1px 2px rgba(60, 64, 67, 0.3), 0px 1px 3px 1px rgba(60, 64, 67, 0.15);\n",
              "      fill: #174EA6;\n",
              "    }\n",
              "\n",
              "    [theme=dark] .colab-df-convert {\n",
              "      background-color: #3B4455;\n",
              "      fill: #D2E3FC;\n",
              "    }\n",
              "\n",
              "    [theme=dark] .colab-df-convert:hover {\n",
              "      background-color: #434B5C;\n",
              "      box-shadow: 0px 1px 3px 1px rgba(0, 0, 0, 0.15);\n",
              "      filter: drop-shadow(0px 1px 2px rgba(0, 0, 0, 0.3));\n",
              "      fill: #FFFFFF;\n",
              "    }\n",
              "  </style>\n",
              "\n",
              "      <script>\n",
              "        const buttonEl =\n",
              "          document.querySelector('#df-383a03ff-0a95-42c3-8fde-6a5ceafb948d button.colab-df-convert');\n",
              "        buttonEl.style.display =\n",
              "          google.colab.kernel.accessAllowed ? 'block' : 'none';\n",
              "\n",
              "        async function convertToInteractive(key) {\n",
              "          const element = document.querySelector('#df-383a03ff-0a95-42c3-8fde-6a5ceafb948d');\n",
              "          const dataTable =\n",
              "            await google.colab.kernel.invokeFunction('convertToInteractive',\n",
              "                                                     [key], {});\n",
              "          if (!dataTable) return;\n",
              "\n",
              "          const docLinkHtml = 'Like what you see? Visit the ' +\n",
              "            '<a target=\"_blank\" href=https://colab.research.google.com/notebooks/data_table.ipynb>data table notebook</a>'\n",
              "            + ' to learn more about interactive tables.';\n",
              "          element.innerHTML = '';\n",
              "          dataTable['output_type'] = 'display_data';\n",
              "          await google.colab.output.renderOutput(dataTable, element);\n",
              "          const docLink = document.createElement('div');\n",
              "          docLink.innerHTML = docLinkHtml;\n",
              "          element.appendChild(docLink);\n",
              "        }\n",
              "      </script>\n",
              "    </div>\n",
              "  </div>\n",
              "  "
            ]
          },
          "metadata": {},
          "execution_count": 147
        }
      ]
    },
    {
      "cell_type": "code",
      "source": [
        "# Step2: get the all information of the train dataset because orders contains addtional features we needed for prior\n",
        "train_all_info = order_products_train.merge(orders, on = 'order_id')\n",
        "train_all_info.head(3)"
      ],
      "metadata": {
        "colab": {
          "base_uri": "https://localhost:8080/",
          "height": 143
        },
        "id": "b_xtU1jCE9DG",
        "outputId": "60643e42-66de-4dc6-b182-3a89ad15165a"
      },
      "execution_count": null,
      "outputs": [
        {
          "output_type": "execute_result",
          "data": {
            "text/plain": [
              "   order_id  product_id  add_to_cart_order  reordered  user_id eval_set  \\\n",
              "0      1077       13176                  1          1   173934    train   \n",
              "1      1077       39922                  2          1   173934    train   \n",
              "2      1077        5258                  3          1   173934    train   \n",
              "\n",
              "   order_number  order_dow  order_hour_of_day  days_since_prior_order  \n",
              "0            11          6                  9                    10.0  \n",
              "1            11          6                  9                    10.0  \n",
              "2            11          6                  9                    10.0  "
            ],
            "text/html": [
              "\n",
              "  <div id=\"df-f6ed49c0-f59e-41d8-98d0-d97900f7c15e\">\n",
              "    <div class=\"colab-df-container\">\n",
              "      <div>\n",
              "<style scoped>\n",
              "    .dataframe tbody tr th:only-of-type {\n",
              "        vertical-align: middle;\n",
              "    }\n",
              "\n",
              "    .dataframe tbody tr th {\n",
              "        vertical-align: top;\n",
              "    }\n",
              "\n",
              "    .dataframe thead th {\n",
              "        text-align: right;\n",
              "    }\n",
              "</style>\n",
              "<table border=\"1\" class=\"dataframe\">\n",
              "  <thead>\n",
              "    <tr style=\"text-align: right;\">\n",
              "      <th></th>\n",
              "      <th>order_id</th>\n",
              "      <th>product_id</th>\n",
              "      <th>add_to_cart_order</th>\n",
              "      <th>reordered</th>\n",
              "      <th>user_id</th>\n",
              "      <th>eval_set</th>\n",
              "      <th>order_number</th>\n",
              "      <th>order_dow</th>\n",
              "      <th>order_hour_of_day</th>\n",
              "      <th>days_since_prior_order</th>\n",
              "    </tr>\n",
              "  </thead>\n",
              "  <tbody>\n",
              "    <tr>\n",
              "      <th>0</th>\n",
              "      <td>1077</td>\n",
              "      <td>13176</td>\n",
              "      <td>1</td>\n",
              "      <td>1</td>\n",
              "      <td>173934</td>\n",
              "      <td>train</td>\n",
              "      <td>11</td>\n",
              "      <td>6</td>\n",
              "      <td>9</td>\n",
              "      <td>10.0</td>\n",
              "    </tr>\n",
              "    <tr>\n",
              "      <th>1</th>\n",
              "      <td>1077</td>\n",
              "      <td>39922</td>\n",
              "      <td>2</td>\n",
              "      <td>1</td>\n",
              "      <td>173934</td>\n",
              "      <td>train</td>\n",
              "      <td>11</td>\n",
              "      <td>6</td>\n",
              "      <td>9</td>\n",
              "      <td>10.0</td>\n",
              "    </tr>\n",
              "    <tr>\n",
              "      <th>2</th>\n",
              "      <td>1077</td>\n",
              "      <td>5258</td>\n",
              "      <td>3</td>\n",
              "      <td>1</td>\n",
              "      <td>173934</td>\n",
              "      <td>train</td>\n",
              "      <td>11</td>\n",
              "      <td>6</td>\n",
              "      <td>9</td>\n",
              "      <td>10.0</td>\n",
              "    </tr>\n",
              "  </tbody>\n",
              "</table>\n",
              "</div>\n",
              "      <button class=\"colab-df-convert\" onclick=\"convertToInteractive('df-f6ed49c0-f59e-41d8-98d0-d97900f7c15e')\"\n",
              "              title=\"Convert this dataframe to an interactive table.\"\n",
              "              style=\"display:none;\">\n",
              "        \n",
              "  <svg xmlns=\"http://www.w3.org/2000/svg\" height=\"24px\"viewBox=\"0 0 24 24\"\n",
              "       width=\"24px\">\n",
              "    <path d=\"M0 0h24v24H0V0z\" fill=\"none\"/>\n",
              "    <path d=\"M18.56 5.44l.94 2.06.94-2.06 2.06-.94-2.06-.94-.94-2.06-.94 2.06-2.06.94zm-11 1L8.5 8.5l.94-2.06 2.06-.94-2.06-.94L8.5 2.5l-.94 2.06-2.06.94zm10 10l.94 2.06.94-2.06 2.06-.94-2.06-.94-.94-2.06-.94 2.06-2.06.94z\"/><path d=\"M17.41 7.96l-1.37-1.37c-.4-.4-.92-.59-1.43-.59-.52 0-1.04.2-1.43.59L10.3 9.45l-7.72 7.72c-.78.78-.78 2.05 0 2.83L4 21.41c.39.39.9.59 1.41.59.51 0 1.02-.2 1.41-.59l7.78-7.78 2.81-2.81c.8-.78.8-2.07 0-2.86zM5.41 20L4 18.59l7.72-7.72 1.47 1.35L5.41 20z\"/>\n",
              "  </svg>\n",
              "      </button>\n",
              "      \n",
              "  <style>\n",
              "    .colab-df-container {\n",
              "      display:flex;\n",
              "      flex-wrap:wrap;\n",
              "      gap: 12px;\n",
              "    }\n",
              "\n",
              "    .colab-df-convert {\n",
              "      background-color: #E8F0FE;\n",
              "      border: none;\n",
              "      border-radius: 50%;\n",
              "      cursor: pointer;\n",
              "      display: none;\n",
              "      fill: #1967D2;\n",
              "      height: 32px;\n",
              "      padding: 0 0 0 0;\n",
              "      width: 32px;\n",
              "    }\n",
              "\n",
              "    .colab-df-convert:hover {\n",
              "      background-color: #E2EBFA;\n",
              "      box-shadow: 0px 1px 2px rgba(60, 64, 67, 0.3), 0px 1px 3px 1px rgba(60, 64, 67, 0.15);\n",
              "      fill: #174EA6;\n",
              "    }\n",
              "\n",
              "    [theme=dark] .colab-df-convert {\n",
              "      background-color: #3B4455;\n",
              "      fill: #D2E3FC;\n",
              "    }\n",
              "\n",
              "    [theme=dark] .colab-df-convert:hover {\n",
              "      background-color: #434B5C;\n",
              "      box-shadow: 0px 1px 3px 1px rgba(0, 0, 0, 0.15);\n",
              "      filter: drop-shadow(0px 1px 2px rgba(0, 0, 0, 0.3));\n",
              "      fill: #FFFFFF;\n",
              "    }\n",
              "  </style>\n",
              "\n",
              "      <script>\n",
              "        const buttonEl =\n",
              "          document.querySelector('#df-f6ed49c0-f59e-41d8-98d0-d97900f7c15e button.colab-df-convert');\n",
              "        buttonEl.style.display =\n",
              "          google.colab.kernel.accessAllowed ? 'block' : 'none';\n",
              "\n",
              "        async function convertToInteractive(key) {\n",
              "          const element = document.querySelector('#df-f6ed49c0-f59e-41d8-98d0-d97900f7c15e');\n",
              "          const dataTable =\n",
              "            await google.colab.kernel.invokeFunction('convertToInteractive',\n",
              "                                                     [key], {});\n",
              "          if (!dataTable) return;\n",
              "\n",
              "          const docLinkHtml = 'Like what you see? Visit the ' +\n",
              "            '<a target=\"_blank\" href=https://colab.research.google.com/notebooks/data_table.ipynb>data table notebook</a>'\n",
              "            + ' to learn more about interactive tables.';\n",
              "          element.innerHTML = '';\n",
              "          dataTable['output_type'] = 'display_data';\n",
              "          await google.colab.output.renderOutput(dataTable, element);\n",
              "          const docLink = document.createElement('div');\n",
              "          docLink.innerHTML = docLinkHtml;\n",
              "          element.appendChild(docLink);\n",
              "        }\n",
              "      </script>\n",
              "    </div>\n",
              "  </div>\n",
              "  "
            ]
          },
          "metadata": {},
          "execution_count": 148
        }
      ]
    },
    {
      "cell_type": "code",
      "source": [
        "#Step 3 get the unique user_id set of training data and use it to filter the prior dataset\n",
        "#reason: we are predicting label in the training data, so we only have to keep user_id present in the training data\n",
        "user_id_set = set(train_all_info.user_id)\n",
        "filtered_prior_all_info = prior_all_info.loc[prior_all_info.user_id.isin(user_id_set)]"
      ],
      "metadata": {
        "id": "biFRfU6jDy5N"
      },
      "execution_count": null,
      "outputs": []
    },
    {
      "cell_type": "code",
      "source": [
        "# Step4 Create unique_key as we want to combine user and product together for easier filtering in the later part\n",
        "filtered_prior_all_info['unique_key'] = filtered_prior_all_info['user_id'].astype('str') + '_' + filtered_prior_all_info['product_id'].astype('str')\n",
        "train_all_info['unique_key'] = train_all_info['user_id'].astype('str') + '_' + train_all_info['product_id'].astype('str')\n",
        "filtered_prior_all_info.head(3) "
      ],
      "metadata": {
        "colab": {
          "base_uri": "https://localhost:8080/",
          "height": 143
        },
        "id": "arrr_53mDy3M",
        "outputId": "15ffdeed-b6d9-41ec-ac61-a1d06f9e1090"
      },
      "execution_count": null,
      "outputs": [
        {
          "output_type": "execute_result",
          "data": {
            "text/plain": [
              "   order_id  product_id  add_to_cart_order  reordered  user_id eval_set  \\\n",
              "0        12       30597                  1          1   152610    prior   \n",
              "1        12       15221                  2          1   152610    prior   \n",
              "2        12       43772                  3          1   152610    prior   \n",
              "\n",
              "   order_number  order_dow  order_hour_of_day  days_since_prior_order  \\\n",
              "0            22          6                  8                    10.0   \n",
              "1            22          6                  8                    10.0   \n",
              "2            22          6                  8                    10.0   \n",
              "\n",
              "     unique_key  \n",
              "0  152610_30597  \n",
              "1  152610_15221  \n",
              "2  152610_43772  "
            ],
            "text/html": [
              "\n",
              "  <div id=\"df-ddba6cce-aea2-4d7e-8ad4-8f21171794a7\">\n",
              "    <div class=\"colab-df-container\">\n",
              "      <div>\n",
              "<style scoped>\n",
              "    .dataframe tbody tr th:only-of-type {\n",
              "        vertical-align: middle;\n",
              "    }\n",
              "\n",
              "    .dataframe tbody tr th {\n",
              "        vertical-align: top;\n",
              "    }\n",
              "\n",
              "    .dataframe thead th {\n",
              "        text-align: right;\n",
              "    }\n",
              "</style>\n",
              "<table border=\"1\" class=\"dataframe\">\n",
              "  <thead>\n",
              "    <tr style=\"text-align: right;\">\n",
              "      <th></th>\n",
              "      <th>order_id</th>\n",
              "      <th>product_id</th>\n",
              "      <th>add_to_cart_order</th>\n",
              "      <th>reordered</th>\n",
              "      <th>user_id</th>\n",
              "      <th>eval_set</th>\n",
              "      <th>order_number</th>\n",
              "      <th>order_dow</th>\n",
              "      <th>order_hour_of_day</th>\n",
              "      <th>days_since_prior_order</th>\n",
              "      <th>unique_key</th>\n",
              "    </tr>\n",
              "  </thead>\n",
              "  <tbody>\n",
              "    <tr>\n",
              "      <th>0</th>\n",
              "      <td>12</td>\n",
              "      <td>30597</td>\n",
              "      <td>1</td>\n",
              "      <td>1</td>\n",
              "      <td>152610</td>\n",
              "      <td>prior</td>\n",
              "      <td>22</td>\n",
              "      <td>6</td>\n",
              "      <td>8</td>\n",
              "      <td>10.0</td>\n",
              "      <td>152610_30597</td>\n",
              "    </tr>\n",
              "    <tr>\n",
              "      <th>1</th>\n",
              "      <td>12</td>\n",
              "      <td>15221</td>\n",
              "      <td>2</td>\n",
              "      <td>1</td>\n",
              "      <td>152610</td>\n",
              "      <td>prior</td>\n",
              "      <td>22</td>\n",
              "      <td>6</td>\n",
              "      <td>8</td>\n",
              "      <td>10.0</td>\n",
              "      <td>152610_15221</td>\n",
              "    </tr>\n",
              "    <tr>\n",
              "      <th>2</th>\n",
              "      <td>12</td>\n",
              "      <td>43772</td>\n",
              "      <td>3</td>\n",
              "      <td>1</td>\n",
              "      <td>152610</td>\n",
              "      <td>prior</td>\n",
              "      <td>22</td>\n",
              "      <td>6</td>\n",
              "      <td>8</td>\n",
              "      <td>10.0</td>\n",
              "      <td>152610_43772</td>\n",
              "    </tr>\n",
              "  </tbody>\n",
              "</table>\n",
              "</div>\n",
              "      <button class=\"colab-df-convert\" onclick=\"convertToInteractive('df-ddba6cce-aea2-4d7e-8ad4-8f21171794a7')\"\n",
              "              title=\"Convert this dataframe to an interactive table.\"\n",
              "              style=\"display:none;\">\n",
              "        \n",
              "  <svg xmlns=\"http://www.w3.org/2000/svg\" height=\"24px\"viewBox=\"0 0 24 24\"\n",
              "       width=\"24px\">\n",
              "    <path d=\"M0 0h24v24H0V0z\" fill=\"none\"/>\n",
              "    <path d=\"M18.56 5.44l.94 2.06.94-2.06 2.06-.94-2.06-.94-.94-2.06-.94 2.06-2.06.94zm-11 1L8.5 8.5l.94-2.06 2.06-.94-2.06-.94L8.5 2.5l-.94 2.06-2.06.94zm10 10l.94 2.06.94-2.06 2.06-.94-2.06-.94-.94-2.06-.94 2.06-2.06.94z\"/><path d=\"M17.41 7.96l-1.37-1.37c-.4-.4-.92-.59-1.43-.59-.52 0-1.04.2-1.43.59L10.3 9.45l-7.72 7.72c-.78.78-.78 2.05 0 2.83L4 21.41c.39.39.9.59 1.41.59.51 0 1.02-.2 1.41-.59l7.78-7.78 2.81-2.81c.8-.78.8-2.07 0-2.86zM5.41 20L4 18.59l7.72-7.72 1.47 1.35L5.41 20z\"/>\n",
              "  </svg>\n",
              "      </button>\n",
              "      \n",
              "  <style>\n",
              "    .colab-df-container {\n",
              "      display:flex;\n",
              "      flex-wrap:wrap;\n",
              "      gap: 12px;\n",
              "    }\n",
              "\n",
              "    .colab-df-convert {\n",
              "      background-color: #E8F0FE;\n",
              "      border: none;\n",
              "      border-radius: 50%;\n",
              "      cursor: pointer;\n",
              "      display: none;\n",
              "      fill: #1967D2;\n",
              "      height: 32px;\n",
              "      padding: 0 0 0 0;\n",
              "      width: 32px;\n",
              "    }\n",
              "\n",
              "    .colab-df-convert:hover {\n",
              "      background-color: #E2EBFA;\n",
              "      box-shadow: 0px 1px 2px rgba(60, 64, 67, 0.3), 0px 1px 3px 1px rgba(60, 64, 67, 0.15);\n",
              "      fill: #174EA6;\n",
              "    }\n",
              "\n",
              "    [theme=dark] .colab-df-convert {\n",
              "      background-color: #3B4455;\n",
              "      fill: #D2E3FC;\n",
              "    }\n",
              "\n",
              "    [theme=dark] .colab-df-convert:hover {\n",
              "      background-color: #434B5C;\n",
              "      box-shadow: 0px 1px 3px 1px rgba(0, 0, 0, 0.15);\n",
              "      filter: drop-shadow(0px 1px 2px rgba(0, 0, 0, 0.3));\n",
              "      fill: #FFFFFF;\n",
              "    }\n",
              "  </style>\n",
              "\n",
              "      <script>\n",
              "        const buttonEl =\n",
              "          document.querySelector('#df-ddba6cce-aea2-4d7e-8ad4-8f21171794a7 button.colab-df-convert');\n",
              "        buttonEl.style.display =\n",
              "          google.colab.kernel.accessAllowed ? 'block' : 'none';\n",
              "\n",
              "        async function convertToInteractive(key) {\n",
              "          const element = document.querySelector('#df-ddba6cce-aea2-4d7e-8ad4-8f21171794a7');\n",
              "          const dataTable =\n",
              "            await google.colab.kernel.invokeFunction('convertToInteractive',\n",
              "                                                     [key], {});\n",
              "          if (!dataTable) return;\n",
              "\n",
              "          const docLinkHtml = 'Like what you see? Visit the ' +\n",
              "            '<a target=\"_blank\" href=https://colab.research.google.com/notebooks/data_table.ipynb>data table notebook</a>'\n",
              "            + ' to learn more about interactive tables.';\n",
              "          element.innerHTML = '';\n",
              "          dataTable['output_type'] = 'display_data';\n",
              "          await google.colab.output.renderOutput(dataTable, element);\n",
              "          const docLink = document.createElement('div');\n",
              "          docLink.innerHTML = docLinkHtml;\n",
              "          element.appendChild(docLink);\n",
              "        }\n",
              "      </script>\n",
              "    </div>\n",
              "  </div>\n",
              "  "
            ]
          },
          "metadata": {},
          "execution_count": 150
        }
      ]
    },
    {
      "cell_type": "code",
      "source": [
        "#Step5 drop duplicate in filtered_prior_all_info\n",
        "#purpose: we have to make sure only one unique_key (user + product combination )present in dataset for later ML model\n",
        "print(filtered_prior_all_info.shape)\n",
        "filtered_prior_all_info.nunique() #we find unique_key are around 330,000 while dataset has nearly 800,000 data"
      ],
      "metadata": {
        "colab": {
          "base_uri": "https://localhost:8080/"
        },
        "id": "XpCEV2kqQdI1",
        "outputId": "0d1f623d-67c0-4c82-dd68-46de77c310c2"
      },
      "execution_count": null,
      "outputs": [
        {
          "output_type": "stream",
          "name": "stdout",
          "text": [
            "(793924, 11)\n"
          ]
        },
        {
          "output_type": "execute_result",
          "data": {
            "text/plain": [
              "order_id                   77683\n",
              "product_id                 28927\n",
              "add_to_cart_order             92\n",
              "reordered                      2\n",
              "user_id                     5000\n",
              "eval_set                       1\n",
              "order_number                  99\n",
              "order_dow                      7\n",
              "order_hour_of_day             24\n",
              "days_since_prior_order        31\n",
              "unique_key                329806\n",
              "dtype: int64"
            ]
          },
          "metadata": {},
          "execution_count": 151
        }
      ]
    },
    {
      "cell_type": "code",
      "source": [
        "#step 5 continued\n",
        "#how do we drop duplicate? \n",
        "#if unique_key present once, we keep it;\n",
        "#if unique_key present more than once, meaning this user purphase this product more than once during the prior period, then there must be a reorder = 1, then we need to keep the last reorder = 1 (lastest data)\n",
        "filtered_prior_all_info.unique_key.value_counts() # Here we find some unique_key presents multiple times"
      ],
      "metadata": {
        "colab": {
          "base_uri": "https://localhost:8080/"
        },
        "id": "iZIDr5LwQ7M9",
        "outputId": "ac54bd32-8f26-4e9a-922b-ce0ae6120430"
      },
      "execution_count": null,
      "outputs": [
        {
          "output_type": "execute_result",
          "data": {
            "text/plain": [
              "164055_4210     86\n",
              "95967_33198     85\n",
              "164055_8195     80\n",
              "154977_18531    79\n",
              "154977_19660    78\n",
              "                ..\n",
              "200245_17834     1\n",
              "200245_31315     1\n",
              "92926_9339       1\n",
              "92926_32330      1\n",
              "186579_13852     1\n",
              "Name: unique_key, Length: 329806, dtype: int64"
            ]
          },
          "metadata": {},
          "execution_count": 152
        }
      ]
    },
    {
      "cell_type": "code",
      "source": [
        "#step5 continued (This step main aim is to delete duplicate unique_values and only keep the last reorder = 1 of them)\n",
        "\n",
        "#create unique key set appears more than once\n",
        "unique_key_table = filtered_prior_all_info.unique_key.value_counts().to_frame()\n",
        "unique_key_more_than_one_set = set(unique_key_table.loc[unique_key_table.unique_key > 1].index)\n",
        "\n",
        "#we delete data that has uniquekey more than once and reorder = 0\n",
        "index_drop = filtered_prior_all_info[(filtered_prior_all_info.unique_key.isin(unique_key_more_than_one_set)) & (filtered_prior_all_info.reordered == 0) ].index\n",
        "filtered_prior_all_info.drop(index_drop , inplace=True)\n",
        "\n",
        "#keep filtering: only keep the last depulicated unique_value with reorder = 1\n",
        "filtered_prior_all_info.drop_duplicates(subset = ['unique_key'],keep='last',inplace=True,ignore_index=True)\n",
        "filtered_prior_all_info.shape #after filtering we have 330,000 data"
      ],
      "metadata": {
        "colab": {
          "base_uri": "https://localhost:8080/"
        },
        "id": "V_JVRcXgShvR",
        "outputId": "03f0f3a9-26fd-47ed-bae2-865556e34657"
      },
      "execution_count": null,
      "outputs": [
        {
          "output_type": "execute_result",
          "data": {
            "text/plain": [
              "(329806, 11)"
            ]
          },
          "metadata": {},
          "execution_count": 154
        }
      ]
    },
    {
      "cell_type": "code",
      "source": [
        "# Step 5 adding label -- base on rule discussed above: only train and prior both are 1 then label is 1\n",
        "unique_key_train = set(train_all_info.loc[train_all_info.reordered == 1].unique_key)\n",
        "\n",
        "filtered_prior_all_info['label'] = 0\n",
        "filtered_prior_all_info.loc[(filtered_prior_all_info.reordered == 1) & (filtered_prior_all_info.unique_key.isin(unique_key_train)), 'label'] = 1 \n",
        "filtered_prior_all_info.label.value_counts()"
      ],
      "metadata": {
        "colab": {
          "base_uri": "https://localhost:8080/"
        },
        "id": "_De9DwtcDy1K",
        "outputId": "48fe6f62-6725-4604-db37-000af293d652"
      },
      "execution_count": null,
      "outputs": [
        {
          "output_type": "execute_result",
          "data": {
            "text/plain": [
              "0    306866\n",
              "1     22940\n",
              "Name: label, dtype: int64"
            ]
          },
          "metadata": {},
          "execution_count": 155
        }
      ]
    },
    {
      "cell_type": "code",
      "source": [
        "# Step 6 keep useful feature\n",
        "model_all_data = filtered_prior_all_info[['user_id',\t'product_id',\t'order_number',\t'order_dow',\t'order_hour_of_day',\t'days_since_prior_order',\t'unique_key',\t'label']]"
      ],
      "metadata": {
        "id": "4tSwsempbZIA"
      },
      "execution_count": null,
      "outputs": []
    },
    {
      "cell_type": "code",
      "source": [
        "model_all_data.shape"
      ],
      "metadata": {
        "colab": {
          "base_uri": "https://localhost:8080/"
        },
        "id": "0JdighA4bWy2",
        "outputId": "59e82488-9b2b-4e4a-b055-768e293bf81d"
      },
      "execution_count": null,
      "outputs": [
        {
          "output_type": "execute_result",
          "data": {
            "text/plain": [
              "(329806, 8)"
            ]
          },
          "metadata": {},
          "execution_count": 171
        }
      ]
    },
    {
      "cell_type": "markdown",
      "metadata": {
        "id": "S5V5nnohhamI"
      },
      "source": [
        "# 2. Construct Model Features (3 different group) \n",
        "\n",
        "### This step we totally create 20 features using various rules. From 8 to 28.\n",
        "\n",
        "思考：为什么我们需要单独使用prior dataset --> 原因: feature需来自于historical dataset"
      ]
    },
    {
      "cell_type": "markdown",
      "metadata": {
        "id": "Ynt4wNvThn_b"
      },
      "source": [
        "2.1. Feature Group 1: user-product activity features （用户买了什么东西）"
      ]
    },
    {
      "cell_type": "code",
      "metadata": {
        "id": "2mzONOBCjdOI"
      },
      "source": [
        "user_product_features = ['user_product__total_orders',\n",
        "                         'user_product__add_to_cart_order_mean',\n",
        "                         'user_product__reordered_mean',\n",
        "                         'user_product__most_dow',\n",
        "                         'user_product__most_hod']"
      ],
      "execution_count": null,
      "outputs": []
    },
    {
      "cell_type": "code",
      "source": [
        "prior_all_info.head()"
      ],
      "metadata": {
        "colab": {
          "base_uri": "https://localhost:8080/",
          "height": 206
        },
        "id": "FjjEDdl_ebKg",
        "outputId": "1dcbbfd4-b304-474e-d819-bdd3aba8bc76"
      },
      "execution_count": null,
      "outputs": [
        {
          "output_type": "execute_result",
          "data": {
            "text/plain": [
              "   order_id  product_id  add_to_cart_order  reordered  user_id eval_set  \\\n",
              "0        12       30597                  1          1   152610    prior   \n",
              "1        12       15221                  2          1   152610    prior   \n",
              "2        12       43772                  3          1   152610    prior   \n",
              "3        12       37886                  4          1   152610    prior   \n",
              "4        12       37215                  5          0   152610    prior   \n",
              "\n",
              "   order_number  order_dow  order_hour_of_day  days_since_prior_order  \n",
              "0            22          6                  8                    10.0  \n",
              "1            22          6                  8                    10.0  \n",
              "2            22          6                  8                    10.0  \n",
              "3            22          6                  8                    10.0  \n",
              "4            22          6                  8                    10.0  "
            ],
            "text/html": [
              "\n",
              "  <div id=\"df-a42a6339-8556-4959-b3f6-c554d9ebc6e7\">\n",
              "    <div class=\"colab-df-container\">\n",
              "      <div>\n",
              "<style scoped>\n",
              "    .dataframe tbody tr th:only-of-type {\n",
              "        vertical-align: middle;\n",
              "    }\n",
              "\n",
              "    .dataframe tbody tr th {\n",
              "        vertical-align: top;\n",
              "    }\n",
              "\n",
              "    .dataframe thead th {\n",
              "        text-align: right;\n",
              "    }\n",
              "</style>\n",
              "<table border=\"1\" class=\"dataframe\">\n",
              "  <thead>\n",
              "    <tr style=\"text-align: right;\">\n",
              "      <th></th>\n",
              "      <th>order_id</th>\n",
              "      <th>product_id</th>\n",
              "      <th>add_to_cart_order</th>\n",
              "      <th>reordered</th>\n",
              "      <th>user_id</th>\n",
              "      <th>eval_set</th>\n",
              "      <th>order_number</th>\n",
              "      <th>order_dow</th>\n",
              "      <th>order_hour_of_day</th>\n",
              "      <th>days_since_prior_order</th>\n",
              "    </tr>\n",
              "  </thead>\n",
              "  <tbody>\n",
              "    <tr>\n",
              "      <th>0</th>\n",
              "      <td>12</td>\n",
              "      <td>30597</td>\n",
              "      <td>1</td>\n",
              "      <td>1</td>\n",
              "      <td>152610</td>\n",
              "      <td>prior</td>\n",
              "      <td>22</td>\n",
              "      <td>6</td>\n",
              "      <td>8</td>\n",
              "      <td>10.0</td>\n",
              "    </tr>\n",
              "    <tr>\n",
              "      <th>1</th>\n",
              "      <td>12</td>\n",
              "      <td>15221</td>\n",
              "      <td>2</td>\n",
              "      <td>1</td>\n",
              "      <td>152610</td>\n",
              "      <td>prior</td>\n",
              "      <td>22</td>\n",
              "      <td>6</td>\n",
              "      <td>8</td>\n",
              "      <td>10.0</td>\n",
              "    </tr>\n",
              "    <tr>\n",
              "      <th>2</th>\n",
              "      <td>12</td>\n",
              "      <td>43772</td>\n",
              "      <td>3</td>\n",
              "      <td>1</td>\n",
              "      <td>152610</td>\n",
              "      <td>prior</td>\n",
              "      <td>22</td>\n",
              "      <td>6</td>\n",
              "      <td>8</td>\n",
              "      <td>10.0</td>\n",
              "    </tr>\n",
              "    <tr>\n",
              "      <th>3</th>\n",
              "      <td>12</td>\n",
              "      <td>37886</td>\n",
              "      <td>4</td>\n",
              "      <td>1</td>\n",
              "      <td>152610</td>\n",
              "      <td>prior</td>\n",
              "      <td>22</td>\n",
              "      <td>6</td>\n",
              "      <td>8</td>\n",
              "      <td>10.0</td>\n",
              "    </tr>\n",
              "    <tr>\n",
              "      <th>4</th>\n",
              "      <td>12</td>\n",
              "      <td>37215</td>\n",
              "      <td>5</td>\n",
              "      <td>0</td>\n",
              "      <td>152610</td>\n",
              "      <td>prior</td>\n",
              "      <td>22</td>\n",
              "      <td>6</td>\n",
              "      <td>8</td>\n",
              "      <td>10.0</td>\n",
              "    </tr>\n",
              "  </tbody>\n",
              "</table>\n",
              "</div>\n",
              "      <button class=\"colab-df-convert\" onclick=\"convertToInteractive('df-a42a6339-8556-4959-b3f6-c554d9ebc6e7')\"\n",
              "              title=\"Convert this dataframe to an interactive table.\"\n",
              "              style=\"display:none;\">\n",
              "        \n",
              "  <svg xmlns=\"http://www.w3.org/2000/svg\" height=\"24px\"viewBox=\"0 0 24 24\"\n",
              "       width=\"24px\">\n",
              "    <path d=\"M0 0h24v24H0V0z\" fill=\"none\"/>\n",
              "    <path d=\"M18.56 5.44l.94 2.06.94-2.06 2.06-.94-2.06-.94-.94-2.06-.94 2.06-2.06.94zm-11 1L8.5 8.5l.94-2.06 2.06-.94-2.06-.94L8.5 2.5l-.94 2.06-2.06.94zm10 10l.94 2.06.94-2.06 2.06-.94-2.06-.94-.94-2.06-.94 2.06-2.06.94z\"/><path d=\"M17.41 7.96l-1.37-1.37c-.4-.4-.92-.59-1.43-.59-.52 0-1.04.2-1.43.59L10.3 9.45l-7.72 7.72c-.78.78-.78 2.05 0 2.83L4 21.41c.39.39.9.59 1.41.59.51 0 1.02-.2 1.41-.59l7.78-7.78 2.81-2.81c.8-.78.8-2.07 0-2.86zM5.41 20L4 18.59l7.72-7.72 1.47 1.35L5.41 20z\"/>\n",
              "  </svg>\n",
              "      </button>\n",
              "      \n",
              "  <style>\n",
              "    .colab-df-container {\n",
              "      display:flex;\n",
              "      flex-wrap:wrap;\n",
              "      gap: 12px;\n",
              "    }\n",
              "\n",
              "    .colab-df-convert {\n",
              "      background-color: #E8F0FE;\n",
              "      border: none;\n",
              "      border-radius: 50%;\n",
              "      cursor: pointer;\n",
              "      display: none;\n",
              "      fill: #1967D2;\n",
              "      height: 32px;\n",
              "      padding: 0 0 0 0;\n",
              "      width: 32px;\n",
              "    }\n",
              "\n",
              "    .colab-df-convert:hover {\n",
              "      background-color: #E2EBFA;\n",
              "      box-shadow: 0px 1px 2px rgba(60, 64, 67, 0.3), 0px 1px 3px 1px rgba(60, 64, 67, 0.15);\n",
              "      fill: #174EA6;\n",
              "    }\n",
              "\n",
              "    [theme=dark] .colab-df-convert {\n",
              "      background-color: #3B4455;\n",
              "      fill: #D2E3FC;\n",
              "    }\n",
              "\n",
              "    [theme=dark] .colab-df-convert:hover {\n",
              "      background-color: #434B5C;\n",
              "      box-shadow: 0px 1px 3px 1px rgba(0, 0, 0, 0.15);\n",
              "      filter: drop-shadow(0px 1px 2px rgba(0, 0, 0, 0.3));\n",
              "      fill: #FFFFFF;\n",
              "    }\n",
              "  </style>\n",
              "\n",
              "      <script>\n",
              "        const buttonEl =\n",
              "          document.querySelector('#df-a42a6339-8556-4959-b3f6-c554d9ebc6e7 button.colab-df-convert');\n",
              "        buttonEl.style.display =\n",
              "          google.colab.kernel.accessAllowed ? 'block' : 'none';\n",
              "\n",
              "        async function convertToInteractive(key) {\n",
              "          const element = document.querySelector('#df-a42a6339-8556-4959-b3f6-c554d9ebc6e7');\n",
              "          const dataTable =\n",
              "            await google.colab.kernel.invokeFunction('convertToInteractive',\n",
              "                                                     [key], {});\n",
              "          if (!dataTable) return;\n",
              "\n",
              "          const docLinkHtml = 'Like what you see? Visit the ' +\n",
              "            '<a target=\"_blank\" href=https://colab.research.google.com/notebooks/data_table.ipynb>data table notebook</a>'\n",
              "            + ' to learn more about interactive tables.';\n",
              "          element.innerHTML = '';\n",
              "          dataTable['output_type'] = 'display_data';\n",
              "          await google.colab.output.renderOutput(dataTable, element);\n",
              "          const docLink = document.createElement('div');\n",
              "          docLink.innerHTML = docLinkHtml;\n",
              "          element.appendChild(docLink);\n",
              "        }\n",
              "      </script>\n",
              "    </div>\n",
              "  </div>\n",
              "  "
            ]
          },
          "metadata": {},
          "execution_count": 166
        }
      ]
    },
    {
      "cell_type": "code",
      "metadata": {
        "id": "tW7W1Jbzf3S3"
      },
      "source": [
        "# 注意: 这个block的程序执行时间约为2mins\n",
        "# The only difference between dict() and OrderedDict() is that: OrderedDict preserves the order in which the keys are inserted. \n",
        "# Use OrderedDict to maintain the order of the columns ('count', 'mean', 'mean' ... ) for the dataframe that is returned (方便我们后面加刚刚定义的label,确保顺序一致)\n",
        "df_user_product_features = (prior_all_info.groupby(['product_id','user_id'],as_index=False) \n",
        "                                           .agg(OrderedDict(              \n",
        "                                                   [('order_id','count'), # 该用户对该商品的购买次数\n",
        "                                                    ('add_to_cart_order','mean'), # 该用户对该商品的加入购物车顺序 - 均值\n",
        "                                                    ('reordered', 'mean'), #该用户对该商品的复购率\n",
        "                                                    ('order_dow', (lambda x: x.mode()[0])), #该用户购买该商品，最多的dow\n",
        "                                                    ('order_hour_of_day', (lambda x: x.mode()[0])), #该用户购买该商品，最多的 hod\n",
        "                                                    ])))\n",
        "df_user_product_features.columns = ['product_id', 'user_id'] + user_product_features"
      ],
      "execution_count": null,
      "outputs": []
    },
    {
      "cell_type": "code",
      "metadata": {
        "id": "KrIZaHbViyef",
        "colab": {
          "base_uri": "https://localhost:8080/",
          "height": 207
        },
        "outputId": "b16bcb7f-c9ba-4f53-c0e1-daf3cbcbc1ff"
      },
      "source": [
        "model_all_data = model_all_data.merge(df_user_product_features, on = ['user_id', 'product_id'])\n",
        "model_all_data.head(3)"
      ],
      "execution_count": null,
      "outputs": [
        {
          "output_type": "execute_result",
          "data": {
            "text/plain": [
              "   user_id  product_id  order_number  order_dow  order_hour_of_day  \\\n",
              "0   152610       43772            22          6                  8   \n",
              "1   152610       37886            22          6                  8   \n",
              "2   152610       37215            22          6                  8   \n",
              "\n",
              "   days_since_prior_order    unique_key  label  user_product__total_orders  \\\n",
              "0                    10.0  152610_43772      0                           2   \n",
              "1                    10.0  152610_37886      0                           2   \n",
              "2                    10.0  152610_37215      0                           1   \n",
              "\n",
              "   user_product__add_to_cart_order_mean  user_product__reordered_mean  \\\n",
              "0                                   3.0                           0.5   \n",
              "1                                   3.5                           0.5   \n",
              "2                                   5.0                           0.0   \n",
              "\n",
              "   user_product__most_dow  user_product__most_hod  \n",
              "0                       5                       8  \n",
              "1                       6                       8  \n",
              "2                       6                       8  "
            ],
            "text/html": [
              "\n",
              "  <div id=\"df-005c347b-94c7-48f3-83f9-7b960acdd6b2\">\n",
              "    <div class=\"colab-df-container\">\n",
              "      <div>\n",
              "<style scoped>\n",
              "    .dataframe tbody tr th:only-of-type {\n",
              "        vertical-align: middle;\n",
              "    }\n",
              "\n",
              "    .dataframe tbody tr th {\n",
              "        vertical-align: top;\n",
              "    }\n",
              "\n",
              "    .dataframe thead th {\n",
              "        text-align: right;\n",
              "    }\n",
              "</style>\n",
              "<table border=\"1\" class=\"dataframe\">\n",
              "  <thead>\n",
              "    <tr style=\"text-align: right;\">\n",
              "      <th></th>\n",
              "      <th>user_id</th>\n",
              "      <th>product_id</th>\n",
              "      <th>order_number</th>\n",
              "      <th>order_dow</th>\n",
              "      <th>order_hour_of_day</th>\n",
              "      <th>days_since_prior_order</th>\n",
              "      <th>unique_key</th>\n",
              "      <th>label</th>\n",
              "      <th>user_product__total_orders</th>\n",
              "      <th>user_product__add_to_cart_order_mean</th>\n",
              "      <th>user_product__reordered_mean</th>\n",
              "      <th>user_product__most_dow</th>\n",
              "      <th>user_product__most_hod</th>\n",
              "    </tr>\n",
              "  </thead>\n",
              "  <tbody>\n",
              "    <tr>\n",
              "      <th>0</th>\n",
              "      <td>152610</td>\n",
              "      <td>43772</td>\n",
              "      <td>22</td>\n",
              "      <td>6</td>\n",
              "      <td>8</td>\n",
              "      <td>10.0</td>\n",
              "      <td>152610_43772</td>\n",
              "      <td>0</td>\n",
              "      <td>2</td>\n",
              "      <td>3.0</td>\n",
              "      <td>0.5</td>\n",
              "      <td>5</td>\n",
              "      <td>8</td>\n",
              "    </tr>\n",
              "    <tr>\n",
              "      <th>1</th>\n",
              "      <td>152610</td>\n",
              "      <td>37886</td>\n",
              "      <td>22</td>\n",
              "      <td>6</td>\n",
              "      <td>8</td>\n",
              "      <td>10.0</td>\n",
              "      <td>152610_37886</td>\n",
              "      <td>0</td>\n",
              "      <td>2</td>\n",
              "      <td>3.5</td>\n",
              "      <td>0.5</td>\n",
              "      <td>6</td>\n",
              "      <td>8</td>\n",
              "    </tr>\n",
              "    <tr>\n",
              "      <th>2</th>\n",
              "      <td>152610</td>\n",
              "      <td>37215</td>\n",
              "      <td>22</td>\n",
              "      <td>6</td>\n",
              "      <td>8</td>\n",
              "      <td>10.0</td>\n",
              "      <td>152610_37215</td>\n",
              "      <td>0</td>\n",
              "      <td>1</td>\n",
              "      <td>5.0</td>\n",
              "      <td>0.0</td>\n",
              "      <td>6</td>\n",
              "      <td>8</td>\n",
              "    </tr>\n",
              "  </tbody>\n",
              "</table>\n",
              "</div>\n",
              "      <button class=\"colab-df-convert\" onclick=\"convertToInteractive('df-005c347b-94c7-48f3-83f9-7b960acdd6b2')\"\n",
              "              title=\"Convert this dataframe to an interactive table.\"\n",
              "              style=\"display:none;\">\n",
              "        \n",
              "  <svg xmlns=\"http://www.w3.org/2000/svg\" height=\"24px\"viewBox=\"0 0 24 24\"\n",
              "       width=\"24px\">\n",
              "    <path d=\"M0 0h24v24H0V0z\" fill=\"none\"/>\n",
              "    <path d=\"M18.56 5.44l.94 2.06.94-2.06 2.06-.94-2.06-.94-.94-2.06-.94 2.06-2.06.94zm-11 1L8.5 8.5l.94-2.06 2.06-.94-2.06-.94L8.5 2.5l-.94 2.06-2.06.94zm10 10l.94 2.06.94-2.06 2.06-.94-2.06-.94-.94-2.06-.94 2.06-2.06.94z\"/><path d=\"M17.41 7.96l-1.37-1.37c-.4-.4-.92-.59-1.43-.59-.52 0-1.04.2-1.43.59L10.3 9.45l-7.72 7.72c-.78.78-.78 2.05 0 2.83L4 21.41c.39.39.9.59 1.41.59.51 0 1.02-.2 1.41-.59l7.78-7.78 2.81-2.81c.8-.78.8-2.07 0-2.86zM5.41 20L4 18.59l7.72-7.72 1.47 1.35L5.41 20z\"/>\n",
              "  </svg>\n",
              "      </button>\n",
              "      \n",
              "  <style>\n",
              "    .colab-df-container {\n",
              "      display:flex;\n",
              "      flex-wrap:wrap;\n",
              "      gap: 12px;\n",
              "    }\n",
              "\n",
              "    .colab-df-convert {\n",
              "      background-color: #E8F0FE;\n",
              "      border: none;\n",
              "      border-radius: 50%;\n",
              "      cursor: pointer;\n",
              "      display: none;\n",
              "      fill: #1967D2;\n",
              "      height: 32px;\n",
              "      padding: 0 0 0 0;\n",
              "      width: 32px;\n",
              "    }\n",
              "\n",
              "    .colab-df-convert:hover {\n",
              "      background-color: #E2EBFA;\n",
              "      box-shadow: 0px 1px 2px rgba(60, 64, 67, 0.3), 0px 1px 3px 1px rgba(60, 64, 67, 0.15);\n",
              "      fill: #174EA6;\n",
              "    }\n",
              "\n",
              "    [theme=dark] .colab-df-convert {\n",
              "      background-color: #3B4455;\n",
              "      fill: #D2E3FC;\n",
              "    }\n",
              "\n",
              "    [theme=dark] .colab-df-convert:hover {\n",
              "      background-color: #434B5C;\n",
              "      box-shadow: 0px 1px 3px 1px rgba(0, 0, 0, 0.15);\n",
              "      filter: drop-shadow(0px 1px 2px rgba(0, 0, 0, 0.3));\n",
              "      fill: #FFFFFF;\n",
              "    }\n",
              "  </style>\n",
              "\n",
              "      <script>\n",
              "        const buttonEl =\n",
              "          document.querySelector('#df-005c347b-94c7-48f3-83f9-7b960acdd6b2 button.colab-df-convert');\n",
              "        buttonEl.style.display =\n",
              "          google.colab.kernel.accessAllowed ? 'block' : 'none';\n",
              "\n",
              "        async function convertToInteractive(key) {\n",
              "          const element = document.querySelector('#df-005c347b-94c7-48f3-83f9-7b960acdd6b2');\n",
              "          const dataTable =\n",
              "            await google.colab.kernel.invokeFunction('convertToInteractive',\n",
              "                                                     [key], {});\n",
              "          if (!dataTable) return;\n",
              "\n",
              "          const docLinkHtml = 'Like what you see? Visit the ' +\n",
              "            '<a target=\"_blank\" href=https://colab.research.google.com/notebooks/data_table.ipynb>data table notebook</a>'\n",
              "            + ' to learn more about interactive tables.';\n",
              "          element.innerHTML = '';\n",
              "          dataTable['output_type'] = 'display_data';\n",
              "          await google.colab.output.renderOutput(dataTable, element);\n",
              "          const docLink = document.createElement('div');\n",
              "          docLink.innerHTML = docLinkHtml;\n",
              "          element.appendChild(docLink);\n",
              "        }\n",
              "      </script>\n",
              "    </div>\n",
              "  </div>\n",
              "  "
            ]
          },
          "metadata": {},
          "execution_count": 172
        }
      ]
    },
    {
      "cell_type": "markdown",
      "metadata": {
        "id": "Mg9gvZOwjoYv"
      },
      "source": [
        "2.2. Feature Group 2: product features （间接features，如何描述这些products）"
      ]
    },
    {
      "cell_type": "markdown",
      "metadata": {
        "id": "azmXTfh5k6vg"
      },
      "source": [
        "product features分为两种，一种是根据所有用户的行为总结出的product features, 另一种是根据product本身信息得到的features。"
      ]
    },
    {
      "cell_type": "code",
      "metadata": {
        "id": "bvJG0KOijvnY"
      },
      "source": [
        "product_features = ['product__total_orders',\n",
        "                     'product__add_to_cart_order_mean',\n",
        "                     'product__total_users',\n",
        "                     'product__reordered_mean',\n",
        "                     'product__most_dow',\n",
        "                     'product__most_hod',\n",
        "                     'product__days_since_prior_order_mean'\n",
        "                     ]"
      ],
      "execution_count": null,
      "outputs": []
    },
    {
      "cell_type": "code",
      "metadata": {
        "id": "CxpLZS1rjmOO"
      },
      "source": [
        "df_product_features = (prior_all_info.groupby(['product_id'],as_index=False)\n",
        "                                           .agg(OrderedDict(\n",
        "                                                   [('order_id','nunique'), # 该产品被所有用户购买的次数\n",
        "                                                    ('add_to_cart_order','mean'), #该产品被所有用户添加到购物车的顺序 - 平均值\n",
        "                                                    ('user_id', 'nunique'), # 所有购买该产品的人数\n",
        "                                                    ('reordered', 'mean'), #该产品被所有用户复购的频率 (也可以加总和，方差)\n",
        "                                                    ('order_dow', (lambda x: x.mode()[0])), #该产品被购买最多的dow #\n",
        "                                                    ('order_hour_of_day', (lambda x: x.mode()[0])), #该产品被购买最多的dow\n",
        "                                                    ('days_since_prior_order', 'mean') #该商品距离上次被购买的均值\n",
        "                                                    ])))\n",
        "df_product_features.columns = ['product_id'] + product_features"
      ],
      "execution_count": null,
      "outputs": []
    },
    {
      "cell_type": "code",
      "metadata": {
        "id": "JEXmptKsjy2x",
        "colab": {
          "base_uri": "https://localhost:8080/",
          "height": 237
        },
        "outputId": "0af20d85-e21e-4d56-f27f-a8d82e34d682"
      },
      "source": [
        "model_all_data = model_all_data.merge(df_product_features, on = ['product_id'])\n",
        "model_all_data = model_all_data.merge(products[['product_id','aisle_id', 'department_id']], \n",
        "                                      on = ['product_id'])\n",
        "model_all_data.rename(columns={'aisle_id': 'product__aisle_id', 'department_id': 'product__department_id'}, inplace=True)\n",
        "model_all_data.head(3)"
      ],
      "execution_count": null,
      "outputs": [
        {
          "output_type": "execute_result",
          "data": {
            "text/plain": [
              "   user_id  product_id  order_number  order_dow  order_hour_of_day  \\\n",
              "0   152610       43772            22          6                  8   \n",
              "1    38275       43772            13          3                 15   \n",
              "2   111084       43772             5          2                  9   \n",
              "\n",
              "   days_since_prior_order    unique_key  label  user_product__total_orders  \\\n",
              "0                    10.0  152610_43772      0                           2   \n",
              "1                    24.0   38275_43772      0                           2   \n",
              "2                    22.0  111084_43772      0                           1   \n",
              "\n",
              "   user_product__add_to_cart_order_mean  ...  user_product__most_hod  \\\n",
              "0                                   3.0  ...                       8   \n",
              "1                                   4.0  ...                      14   \n",
              "2                                  21.0  ...                       9   \n",
              "\n",
              "   product__total_orders  product__add_to_cart_order_mean  \\\n",
              "0                    508                         9.096457   \n",
              "1                    508                         9.096457   \n",
              "2                    508                         9.096457   \n",
              "\n",
              "   product__total_users  product__reordered_mean  product__most_dow  \\\n",
              "0                   171                 0.663386                  1   \n",
              "1                   171                 0.663386                  1   \n",
              "2                   171                 0.663386                  1   \n",
              "\n",
              "   product__most_hod  product__days_since_prior_order_mean  product__aisle_id  \\\n",
              "0                 12                             12.008565                 83   \n",
              "1                 12                             12.008565                 83   \n",
              "2                 12                             12.008565                 83   \n",
              "\n",
              "   product__department_id  \n",
              "0                       4  \n",
              "1                       4  \n",
              "2                       4  \n",
              "\n",
              "[3 rows x 22 columns]"
            ],
            "text/html": [
              "\n",
              "  <div id=\"df-4d7b7186-d565-4fc6-815b-af5fc5b78fb0\">\n",
              "    <div class=\"colab-df-container\">\n",
              "      <div>\n",
              "<style scoped>\n",
              "    .dataframe tbody tr th:only-of-type {\n",
              "        vertical-align: middle;\n",
              "    }\n",
              "\n",
              "    .dataframe tbody tr th {\n",
              "        vertical-align: top;\n",
              "    }\n",
              "\n",
              "    .dataframe thead th {\n",
              "        text-align: right;\n",
              "    }\n",
              "</style>\n",
              "<table border=\"1\" class=\"dataframe\">\n",
              "  <thead>\n",
              "    <tr style=\"text-align: right;\">\n",
              "      <th></th>\n",
              "      <th>user_id</th>\n",
              "      <th>product_id</th>\n",
              "      <th>order_number</th>\n",
              "      <th>order_dow</th>\n",
              "      <th>order_hour_of_day</th>\n",
              "      <th>days_since_prior_order</th>\n",
              "      <th>unique_key</th>\n",
              "      <th>label</th>\n",
              "      <th>user_product__total_orders</th>\n",
              "      <th>user_product__add_to_cart_order_mean</th>\n",
              "      <th>...</th>\n",
              "      <th>user_product__most_hod</th>\n",
              "      <th>product__total_orders</th>\n",
              "      <th>product__add_to_cart_order_mean</th>\n",
              "      <th>product__total_users</th>\n",
              "      <th>product__reordered_mean</th>\n",
              "      <th>product__most_dow</th>\n",
              "      <th>product__most_hod</th>\n",
              "      <th>product__days_since_prior_order_mean</th>\n",
              "      <th>product__aisle_id</th>\n",
              "      <th>product__department_id</th>\n",
              "    </tr>\n",
              "  </thead>\n",
              "  <tbody>\n",
              "    <tr>\n",
              "      <th>0</th>\n",
              "      <td>152610</td>\n",
              "      <td>43772</td>\n",
              "      <td>22</td>\n",
              "      <td>6</td>\n",
              "      <td>8</td>\n",
              "      <td>10.0</td>\n",
              "      <td>152610_43772</td>\n",
              "      <td>0</td>\n",
              "      <td>2</td>\n",
              "      <td>3.0</td>\n",
              "      <td>...</td>\n",
              "      <td>8</td>\n",
              "      <td>508</td>\n",
              "      <td>9.096457</td>\n",
              "      <td>171</td>\n",
              "      <td>0.663386</td>\n",
              "      <td>1</td>\n",
              "      <td>12</td>\n",
              "      <td>12.008565</td>\n",
              "      <td>83</td>\n",
              "      <td>4</td>\n",
              "    </tr>\n",
              "    <tr>\n",
              "      <th>1</th>\n",
              "      <td>38275</td>\n",
              "      <td>43772</td>\n",
              "      <td>13</td>\n",
              "      <td>3</td>\n",
              "      <td>15</td>\n",
              "      <td>24.0</td>\n",
              "      <td>38275_43772</td>\n",
              "      <td>0</td>\n",
              "      <td>2</td>\n",
              "      <td>4.0</td>\n",
              "      <td>...</td>\n",
              "      <td>14</td>\n",
              "      <td>508</td>\n",
              "      <td>9.096457</td>\n",
              "      <td>171</td>\n",
              "      <td>0.663386</td>\n",
              "      <td>1</td>\n",
              "      <td>12</td>\n",
              "      <td>12.008565</td>\n",
              "      <td>83</td>\n",
              "      <td>4</td>\n",
              "    </tr>\n",
              "    <tr>\n",
              "      <th>2</th>\n",
              "      <td>111084</td>\n",
              "      <td>43772</td>\n",
              "      <td>5</td>\n",
              "      <td>2</td>\n",
              "      <td>9</td>\n",
              "      <td>22.0</td>\n",
              "      <td>111084_43772</td>\n",
              "      <td>0</td>\n",
              "      <td>1</td>\n",
              "      <td>21.0</td>\n",
              "      <td>...</td>\n",
              "      <td>9</td>\n",
              "      <td>508</td>\n",
              "      <td>9.096457</td>\n",
              "      <td>171</td>\n",
              "      <td>0.663386</td>\n",
              "      <td>1</td>\n",
              "      <td>12</td>\n",
              "      <td>12.008565</td>\n",
              "      <td>83</td>\n",
              "      <td>4</td>\n",
              "    </tr>\n",
              "  </tbody>\n",
              "</table>\n",
              "<p>3 rows × 22 columns</p>\n",
              "</div>\n",
              "      <button class=\"colab-df-convert\" onclick=\"convertToInteractive('df-4d7b7186-d565-4fc6-815b-af5fc5b78fb0')\"\n",
              "              title=\"Convert this dataframe to an interactive table.\"\n",
              "              style=\"display:none;\">\n",
              "        \n",
              "  <svg xmlns=\"http://www.w3.org/2000/svg\" height=\"24px\"viewBox=\"0 0 24 24\"\n",
              "       width=\"24px\">\n",
              "    <path d=\"M0 0h24v24H0V0z\" fill=\"none\"/>\n",
              "    <path d=\"M18.56 5.44l.94 2.06.94-2.06 2.06-.94-2.06-.94-.94-2.06-.94 2.06-2.06.94zm-11 1L8.5 8.5l.94-2.06 2.06-.94-2.06-.94L8.5 2.5l-.94 2.06-2.06.94zm10 10l.94 2.06.94-2.06 2.06-.94-2.06-.94-.94-2.06-.94 2.06-2.06.94z\"/><path d=\"M17.41 7.96l-1.37-1.37c-.4-.4-.92-.59-1.43-.59-.52 0-1.04.2-1.43.59L10.3 9.45l-7.72 7.72c-.78.78-.78 2.05 0 2.83L4 21.41c.39.39.9.59 1.41.59.51 0 1.02-.2 1.41-.59l7.78-7.78 2.81-2.81c.8-.78.8-2.07 0-2.86zM5.41 20L4 18.59l7.72-7.72 1.47 1.35L5.41 20z\"/>\n",
              "  </svg>\n",
              "      </button>\n",
              "      \n",
              "  <style>\n",
              "    .colab-df-container {\n",
              "      display:flex;\n",
              "      flex-wrap:wrap;\n",
              "      gap: 12px;\n",
              "    }\n",
              "\n",
              "    .colab-df-convert {\n",
              "      background-color: #E8F0FE;\n",
              "      border: none;\n",
              "      border-radius: 50%;\n",
              "      cursor: pointer;\n",
              "      display: none;\n",
              "      fill: #1967D2;\n",
              "      height: 32px;\n",
              "      padding: 0 0 0 0;\n",
              "      width: 32px;\n",
              "    }\n",
              "\n",
              "    .colab-df-convert:hover {\n",
              "      background-color: #E2EBFA;\n",
              "      box-shadow: 0px 1px 2px rgba(60, 64, 67, 0.3), 0px 1px 3px 1px rgba(60, 64, 67, 0.15);\n",
              "      fill: #174EA6;\n",
              "    }\n",
              "\n",
              "    [theme=dark] .colab-df-convert {\n",
              "      background-color: #3B4455;\n",
              "      fill: #D2E3FC;\n",
              "    }\n",
              "\n",
              "    [theme=dark] .colab-df-convert:hover {\n",
              "      background-color: #434B5C;\n",
              "      box-shadow: 0px 1px 3px 1px rgba(0, 0, 0, 0.15);\n",
              "      filter: drop-shadow(0px 1px 2px rgba(0, 0, 0, 0.3));\n",
              "      fill: #FFFFFF;\n",
              "    }\n",
              "  </style>\n",
              "\n",
              "      <script>\n",
              "        const buttonEl =\n",
              "          document.querySelector('#df-4d7b7186-d565-4fc6-815b-af5fc5b78fb0 button.colab-df-convert');\n",
              "        buttonEl.style.display =\n",
              "          google.colab.kernel.accessAllowed ? 'block' : 'none';\n",
              "\n",
              "        async function convertToInteractive(key) {\n",
              "          const element = document.querySelector('#df-4d7b7186-d565-4fc6-815b-af5fc5b78fb0');\n",
              "          const dataTable =\n",
              "            await google.colab.kernel.invokeFunction('convertToInteractive',\n",
              "                                                     [key], {});\n",
              "          if (!dataTable) return;\n",
              "\n",
              "          const docLinkHtml = 'Like what you see? Visit the ' +\n",
              "            '<a target=\"_blank\" href=https://colab.research.google.com/notebooks/data_table.ipynb>data table notebook</a>'\n",
              "            + ' to learn more about interactive tables.';\n",
              "          element.innerHTML = '';\n",
              "          dataTable['output_type'] = 'display_data';\n",
              "          await google.colab.output.renderOutput(dataTable, element);\n",
              "          const docLink = document.createElement('div');\n",
              "          docLink.innerHTML = docLinkHtml;\n",
              "          element.appendChild(docLink);\n",
              "        }\n",
              "      </script>\n",
              "    </div>\n",
              "  </div>\n",
              "  "
            ]
          },
          "metadata": {},
          "execution_count": 175
        }
      ]
    },
    {
      "cell_type": "markdown",
      "metadata": {
        "id": "CMA42sTBj48r"
      },
      "source": [
        "2.3. Feature Group 3: user features"
      ]
    },
    {
      "cell_type": "code",
      "metadata": {
        "id": "ChBV0KvQj81n"
      },
      "source": [
        "user_features = ['user__order_count',\n",
        "                  'user__product_count',\n",
        "                  'user__days_since_prior_order_mean',\n",
        "                  'user__reordered_mean',\n",
        "                  'user__most_dow',\n",
        "                  'user__most_hod',\n",
        "                  ]"
      ],
      "execution_count": null,
      "outputs": []
    },
    {
      "cell_type": "code",
      "metadata": {
        "id": "tkoz8vQTj13b"
      },
      "source": [
        "df_user_features = (prior_all_info.groupby(['user_id'],as_index=False)\n",
        "                                           .agg(OrderedDict(\n",
        "                                                   [('order_id','nunique'), # 该用户的总订单数\n",
        "                                                    ('product_id','count'), #该用户购买的全部商品总数\n",
        "                                                    ('days_since_prior_order','mean'), #该用户订单平均间隔时间\n",
        "                                                    ('reordered', 'mean'), #该用户的总复购率\n",
        "                                                    ('order_dow', (lambda x: x.mode()[0])), #该用户下单最多的dow\n",
        "                                                    ('order_hour_of_day', (lambda x: x.mode()[0])), #该用户下单最多的dow\n",
        "                                                    ])))\n",
        "df_user_features.columns = ['user_id'] + user_features"
      ],
      "execution_count": null,
      "outputs": []
    },
    {
      "cell_type": "code",
      "metadata": {
        "id": "IF9nqswNkAnQ"
      },
      "source": [
        "model_all_data = model_all_data.merge(df_user_features, on = ['user_id'])"
      ],
      "execution_count": null,
      "outputs": []
    },
    {
      "cell_type": "code",
      "metadata": {
        "id": "DiGC2snmk0Om",
        "colab": {
          "base_uri": "https://localhost:8080/"
        },
        "outputId": "0555b04e-1672-4992-aff0-c9e432ccf56e"
      },
      "source": [
        "model_all_data.shape "
      ],
      "execution_count": null,
      "outputs": [
        {
          "output_type": "execute_result",
          "data": {
            "text/plain": [
              "(329806, 28)"
            ]
          },
          "metadata": {},
          "execution_count": 180
        }
      ]
    },
    {
      "cell_type": "markdown",
      "metadata": {
        "id": "Qld8h9NKmo0q"
      },
      "source": [
        "# 3. Save feature data to google drive"
      ]
    },
    {
      "cell_type": "code",
      "metadata": {
        "colab": {
          "base_uri": "https://localhost:8080/"
        },
        "id": "KOWbbVvuk1zW",
        "outputId": "66018223-2ed4-4ea9-dab3-d9335b563204"
      },
      "source": [
        "from google.colab import drive\n",
        "drive.mount('/content/drive')"
      ],
      "execution_count": null,
      "outputs": [
        {
          "output_type": "stream",
          "name": "stdout",
          "text": [
            "Drive already mounted at /content/drive; to attempt to forcibly remount, call drive.mount(\"/content/drive\", force_remount=True).\n"
          ]
        }
      ]
    },
    {
      "cell_type": "code",
      "metadata": {
        "id": "IVnI0xPfm2jC",
        "colab": {
          "base_uri": "https://localhost:8080/"
        },
        "outputId": "72f34e61-4360-400b-e42e-7cb52317473f"
      },
      "source": [
        "cd /content/drive/MyDrive/RecSys_eComm"
      ],
      "execution_count": null,
      "outputs": [
        {
          "output_type": "stream",
          "name": "stdout",
          "text": [
            "/content/drive/MyDrive/RecSys_eComm\n"
          ]
        }
      ]
    },
    {
      "cell_type": "code",
      "metadata": {
        "id": "01LkhHJ2m7WR"
      },
      "source": [
        "# Save the model_all_data dataframe as csv file to the file path we selected above.\n",
        "model_all_data.to_csv('model_all_data.csv', index=False)"
      ],
      "execution_count": null,
      "outputs": []
    },
    {
      "cell_type": "markdown",
      "source": [
        "#### normally interview stop at here, modeling part is not as important as previous part"
      ],
      "metadata": {
        "id": "ldrlq_PxmlWJ"
      }
    },
    {
      "cell_type": "code",
      "source": [],
      "metadata": {
        "id": "V8s7-Q6dmreC"
      },
      "execution_count": null,
      "outputs": []
    }
  ]
}